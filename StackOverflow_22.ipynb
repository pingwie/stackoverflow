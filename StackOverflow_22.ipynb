{
 "cells": [
  {
   "cell_type": "markdown",
   "id": "27fb3001",
   "metadata": {},
   "source": [
    "# Stackoverflow survey 2022\n",
    "Let's import the libraries and load the dataset"
   ]
  },
  {
   "cell_type": "code",
   "execution_count": 1,
   "id": "403828cd",
   "metadata": {},
   "outputs": [],
   "source": [
    "import pandas as pd\n",
    "import numpy as np\n",
    "import seaborn as sns\n",
    "import matplotlib.pyplot as plt\n",
    "from collections import defaultdict\n",
    "%matplotlib inline"
   ]
  },
  {
   "cell_type": "code",
   "execution_count": 2,
   "id": "43820359",
   "metadata": {},
   "outputs": [],
   "source": [
    "df = pd.read_csv('data/survey_2022.csv')"
   ]
  },
  {
   "cell_type": "code",
   "execution_count": 3,
   "id": "bb01a081",
   "metadata": {},
   "outputs": [],
   "source": [
    "fd = pd.read_csv('data/schema_2022.csv')"
   ]
  },
  {
   "cell_type": "code",
   "execution_count": 4,
   "id": "25c01f26",
   "metadata": {},
   "outputs": [
    {
     "data": {
      "text/html": [
       "<div>\n",
       "<style scoped>\n",
       "    .dataframe tbody tr th:only-of-type {\n",
       "        vertical-align: middle;\n",
       "    }\n",
       "\n",
       "    .dataframe tbody tr th {\n",
       "        vertical-align: top;\n",
       "    }\n",
       "\n",
       "    .dataframe thead th {\n",
       "        text-align: right;\n",
       "    }\n",
       "</style>\n",
       "<table border=\"1\" class=\"dataframe\">\n",
       "  <thead>\n",
       "    <tr style=\"text-align: right;\">\n",
       "      <th></th>\n",
       "      <th>Unnamed: 0</th>\n",
       "      <th>ResponseId</th>\n",
       "      <th>MainBranch</th>\n",
       "      <th>Employment</th>\n",
       "      <th>RemoteWork</th>\n",
       "      <th>CodingActivities</th>\n",
       "      <th>EdLevel</th>\n",
       "      <th>LearnCode</th>\n",
       "      <th>LearnCodeOnline</th>\n",
       "      <th>LearnCodeCoursesCert</th>\n",
       "      <th>...</th>\n",
       "      <th>TimeSearching</th>\n",
       "      <th>TimeAnswering</th>\n",
       "      <th>Onboarding</th>\n",
       "      <th>ProfessionalTech</th>\n",
       "      <th>TrueFalse_1</th>\n",
       "      <th>TrueFalse_2</th>\n",
       "      <th>TrueFalse_3</th>\n",
       "      <th>SurveyLength</th>\n",
       "      <th>SurveyEase</th>\n",
       "      <th>ConvertedCompYearly</th>\n",
       "    </tr>\n",
       "  </thead>\n",
       "  <tbody>\n",
       "    <tr>\n",
       "      <th>0</th>\n",
       "      <td>0</td>\n",
       "      <td>1</td>\n",
       "      <td>None of these</td>\n",
       "      <td>NaN</td>\n",
       "      <td>NaN</td>\n",
       "      <td>NaN</td>\n",
       "      <td>NaN</td>\n",
       "      <td>NaN</td>\n",
       "      <td>NaN</td>\n",
       "      <td>NaN</td>\n",
       "      <td>...</td>\n",
       "      <td>NaN</td>\n",
       "      <td>NaN</td>\n",
       "      <td>NaN</td>\n",
       "      <td>NaN</td>\n",
       "      <td>NaN</td>\n",
       "      <td>NaN</td>\n",
       "      <td>NaN</td>\n",
       "      <td>NaN</td>\n",
       "      <td>NaN</td>\n",
       "      <td>NaN</td>\n",
       "    </tr>\n",
       "    <tr>\n",
       "      <th>1</th>\n",
       "      <td>1</td>\n",
       "      <td>2</td>\n",
       "      <td>I am a developer by profession</td>\n",
       "      <td>Employed, full-time</td>\n",
       "      <td>Fully remote</td>\n",
       "      <td>Hobby;Contribute to open-source projects</td>\n",
       "      <td>NaN</td>\n",
       "      <td>NaN</td>\n",
       "      <td>NaN</td>\n",
       "      <td>NaN</td>\n",
       "      <td>...</td>\n",
       "      <td>NaN</td>\n",
       "      <td>NaN</td>\n",
       "      <td>NaN</td>\n",
       "      <td>NaN</td>\n",
       "      <td>NaN</td>\n",
       "      <td>NaN</td>\n",
       "      <td>NaN</td>\n",
       "      <td>Too long</td>\n",
       "      <td>Difficult</td>\n",
       "      <td>NaN</td>\n",
       "    </tr>\n",
       "    <tr>\n",
       "      <th>2</th>\n",
       "      <td>2</td>\n",
       "      <td>3</td>\n",
       "      <td>I am not primarily a developer, but I write co...</td>\n",
       "      <td>Employed, full-time</td>\n",
       "      <td>Hybrid (some remote, some in-person)</td>\n",
       "      <td>Hobby</td>\n",
       "      <td>Master’s degree (M.A., M.S., M.Eng., MBA, etc.)</td>\n",
       "      <td>Books / Physical media;Friend or family member...</td>\n",
       "      <td>Technical documentation;Blogs;Programming Game...</td>\n",
       "      <td>NaN</td>\n",
       "      <td>...</td>\n",
       "      <td>NaN</td>\n",
       "      <td>NaN</td>\n",
       "      <td>NaN</td>\n",
       "      <td>NaN</td>\n",
       "      <td>NaN</td>\n",
       "      <td>NaN</td>\n",
       "      <td>NaN</td>\n",
       "      <td>Appropriate in length</td>\n",
       "      <td>Neither easy nor difficult</td>\n",
       "      <td>40205.0</td>\n",
       "    </tr>\n",
       "    <tr>\n",
       "      <th>3</th>\n",
       "      <td>3</td>\n",
       "      <td>4</td>\n",
       "      <td>I am a developer by profession</td>\n",
       "      <td>Employed, full-time</td>\n",
       "      <td>Fully remote</td>\n",
       "      <td>I don’t code outside of work</td>\n",
       "      <td>Bachelor’s degree (B.A., B.S., B.Eng., etc.)</td>\n",
       "      <td>Books / Physical media;School (i.e., Universit...</td>\n",
       "      <td>NaN</td>\n",
       "      <td>NaN</td>\n",
       "      <td>...</td>\n",
       "      <td>NaN</td>\n",
       "      <td>NaN</td>\n",
       "      <td>NaN</td>\n",
       "      <td>NaN</td>\n",
       "      <td>NaN</td>\n",
       "      <td>NaN</td>\n",
       "      <td>NaN</td>\n",
       "      <td>Appropriate in length</td>\n",
       "      <td>Easy</td>\n",
       "      <td>215232.0</td>\n",
       "    </tr>\n",
       "    <tr>\n",
       "      <th>4</th>\n",
       "      <td>4</td>\n",
       "      <td>5</td>\n",
       "      <td>I am a developer by profession</td>\n",
       "      <td>Employed, full-time</td>\n",
       "      <td>Hybrid (some remote, some in-person)</td>\n",
       "      <td>Hobby</td>\n",
       "      <td>Bachelor’s degree (B.A., B.S., B.Eng., etc.)</td>\n",
       "      <td>Other online resources (e.g., videos, blogs, f...</td>\n",
       "      <td>Technical documentation;Blogs;Stack Overflow;O...</td>\n",
       "      <td>NaN</td>\n",
       "      <td>...</td>\n",
       "      <td>NaN</td>\n",
       "      <td>NaN</td>\n",
       "      <td>NaN</td>\n",
       "      <td>NaN</td>\n",
       "      <td>NaN</td>\n",
       "      <td>NaN</td>\n",
       "      <td>NaN</td>\n",
       "      <td>Too long</td>\n",
       "      <td>Easy</td>\n",
       "      <td>NaN</td>\n",
       "    </tr>\n",
       "  </tbody>\n",
       "</table>\n",
       "<p>5 rows × 80 columns</p>\n",
       "</div>"
      ],
      "text/plain": [
       "   Unnamed: 0  ResponseId                                         MainBranch  \\\n",
       "0           0           1                                      None of these   \n",
       "1           1           2                     I am a developer by profession   \n",
       "2           2           3  I am not primarily a developer, but I write co...   \n",
       "3           3           4                     I am a developer by profession   \n",
       "4           4           5                     I am a developer by profession   \n",
       "\n",
       "            Employment                            RemoteWork  \\\n",
       "0                  NaN                                   NaN   \n",
       "1  Employed, full-time                          Fully remote   \n",
       "2  Employed, full-time  Hybrid (some remote, some in-person)   \n",
       "3  Employed, full-time                          Fully remote   \n",
       "4  Employed, full-time  Hybrid (some remote, some in-person)   \n",
       "\n",
       "                           CodingActivities  \\\n",
       "0                                       NaN   \n",
       "1  Hobby;Contribute to open-source projects   \n",
       "2                                     Hobby   \n",
       "3              I don’t code outside of work   \n",
       "4                                     Hobby   \n",
       "\n",
       "                                           EdLevel  \\\n",
       "0                                              NaN   \n",
       "1                                              NaN   \n",
       "2  Master’s degree (M.A., M.S., M.Eng., MBA, etc.)   \n",
       "3     Bachelor’s degree (B.A., B.S., B.Eng., etc.)   \n",
       "4     Bachelor’s degree (B.A., B.S., B.Eng., etc.)   \n",
       "\n",
       "                                           LearnCode  \\\n",
       "0                                                NaN   \n",
       "1                                                NaN   \n",
       "2  Books / Physical media;Friend or family member...   \n",
       "3  Books / Physical media;School (i.e., Universit...   \n",
       "4  Other online resources (e.g., videos, blogs, f...   \n",
       "\n",
       "                                     LearnCodeOnline LearnCodeCoursesCert  \\\n",
       "0                                                NaN                  NaN   \n",
       "1                                                NaN                  NaN   \n",
       "2  Technical documentation;Blogs;Programming Game...                  NaN   \n",
       "3                                                NaN                  NaN   \n",
       "4  Technical documentation;Blogs;Stack Overflow;O...                  NaN   \n",
       "\n",
       "   ... TimeSearching TimeAnswering Onboarding ProfessionalTech TrueFalse_1  \\\n",
       "0  ...           NaN           NaN        NaN              NaN         NaN   \n",
       "1  ...           NaN           NaN        NaN              NaN         NaN   \n",
       "2  ...           NaN           NaN        NaN              NaN         NaN   \n",
       "3  ...           NaN           NaN        NaN              NaN         NaN   \n",
       "4  ...           NaN           NaN        NaN              NaN         NaN   \n",
       "\n",
       "  TrueFalse_2 TrueFalse_3           SurveyLength                  SurveyEase  \\\n",
       "0         NaN         NaN                    NaN                         NaN   \n",
       "1         NaN         NaN               Too long                   Difficult   \n",
       "2         NaN         NaN  Appropriate in length  Neither easy nor difficult   \n",
       "3         NaN         NaN  Appropriate in length                        Easy   \n",
       "4         NaN         NaN               Too long                        Easy   \n",
       "\n",
       "  ConvertedCompYearly  \n",
       "0                 NaN  \n",
       "1                 NaN  \n",
       "2             40205.0  \n",
       "3            215232.0  \n",
       "4                 NaN  \n",
       "\n",
       "[5 rows x 80 columns]"
      ]
     },
     "execution_count": 4,
     "metadata": {},
     "output_type": "execute_result"
    }
   ],
   "source": [
    "df.head()"
   ]
  },
  {
   "cell_type": "code",
   "execution_count": 5,
   "id": "39f66f60",
   "metadata": {},
   "outputs": [
    {
     "data": {
      "text/html": [
       "<div>\n",
       "<style scoped>\n",
       "    .dataframe tbody tr th:only-of-type {\n",
       "        vertical-align: middle;\n",
       "    }\n",
       "\n",
       "    .dataframe tbody tr th {\n",
       "        vertical-align: top;\n",
       "    }\n",
       "\n",
       "    .dataframe thead th {\n",
       "        text-align: right;\n",
       "    }\n",
       "</style>\n",
       "<table border=\"1\" class=\"dataframe\">\n",
       "  <thead>\n",
       "    <tr style=\"text-align: right;\">\n",
       "      <th></th>\n",
       "      <th>qid</th>\n",
       "      <th>qname</th>\n",
       "      <th>question</th>\n",
       "      <th>force_resp</th>\n",
       "      <th>type</th>\n",
       "      <th>selector</th>\n",
       "    </tr>\n",
       "  </thead>\n",
       "  <tbody>\n",
       "    <tr>\n",
       "      <th>0</th>\n",
       "      <td>QID16</td>\n",
       "      <td>S0</td>\n",
       "      <td>&lt;div&gt;&lt;span style=\"font-size:19px;\"&gt;&lt;strong&gt;Hel...</td>\n",
       "      <td>False</td>\n",
       "      <td>DB</td>\n",
       "      <td>TB</td>\n",
       "    </tr>\n",
       "    <tr>\n",
       "      <th>1</th>\n",
       "      <td>QID12</td>\n",
       "      <td>MetaInfo</td>\n",
       "      <td>Browser Meta Info</td>\n",
       "      <td>False</td>\n",
       "      <td>Meta</td>\n",
       "      <td>Browser</td>\n",
       "    </tr>\n",
       "    <tr>\n",
       "      <th>2</th>\n",
       "      <td>QID1</td>\n",
       "      <td>S1</td>\n",
       "      <td>&lt;span style=\"font-size:22px; font-family: aria...</td>\n",
       "      <td>False</td>\n",
       "      <td>DB</td>\n",
       "      <td>TB</td>\n",
       "    </tr>\n",
       "    <tr>\n",
       "      <th>3</th>\n",
       "      <td>QID2</td>\n",
       "      <td>MainBranch</td>\n",
       "      <td>Which of the following options best describes ...</td>\n",
       "      <td>True</td>\n",
       "      <td>MC</td>\n",
       "      <td>SAVR</td>\n",
       "    </tr>\n",
       "    <tr>\n",
       "      <th>4</th>\n",
       "      <td>QID296</td>\n",
       "      <td>Employment</td>\n",
       "      <td>Which of the following best describes your cur...</td>\n",
       "      <td>False</td>\n",
       "      <td>MC</td>\n",
       "      <td>MAVR</td>\n",
       "    </tr>\n",
       "    <tr>\n",
       "      <th>5</th>\n",
       "      <td>QID308</td>\n",
       "      <td>RemoteWork</td>\n",
       "      <td>Which best describes your current work situation?</td>\n",
       "      <td>False</td>\n",
       "      <td>MC</td>\n",
       "      <td>SAVR</td>\n",
       "    </tr>\n",
       "    <tr>\n",
       "      <th>6</th>\n",
       "      <td>QID297</td>\n",
       "      <td>CodingActivities</td>\n",
       "      <td>Which of the following best describes the code...</td>\n",
       "      <td>False</td>\n",
       "      <td>MC</td>\n",
       "      <td>MAVR</td>\n",
       "    </tr>\n",
       "  </tbody>\n",
       "</table>\n",
       "</div>"
      ],
      "text/plain": [
       "      qid             qname  \\\n",
       "0   QID16                S0   \n",
       "1   QID12          MetaInfo   \n",
       "2    QID1                S1   \n",
       "3    QID2        MainBranch   \n",
       "4  QID296        Employment   \n",
       "5  QID308        RemoteWork   \n",
       "6  QID297  CodingActivities   \n",
       "\n",
       "                                            question force_resp  type selector  \n",
       "0  <div><span style=\"font-size:19px;\"><strong>Hel...      False    DB       TB  \n",
       "1                                  Browser Meta Info      False  Meta  Browser  \n",
       "2  <span style=\"font-size:22px; font-family: aria...      False    DB       TB  \n",
       "3  Which of the following options best describes ...       True    MC     SAVR  \n",
       "4  Which of the following best describes your cur...      False    MC     MAVR  \n",
       "5  Which best describes your current work situation?      False    MC     SAVR  \n",
       "6  Which of the following best describes the code...      False    MC     MAVR  "
      ]
     },
     "execution_count": 5,
     "metadata": {},
     "output_type": "execute_result"
    }
   ],
   "source": [
    "fd.head(7)"
   ]
  },
  {
   "cell_type": "code",
   "execution_count": 6,
   "id": "91d9f618",
   "metadata": {},
   "outputs": [
    {
     "data": {
      "text/plain": [
       "Index(['Unnamed: 0', 'ResponseId', 'MainBranch', 'Employment', 'RemoteWork',\n",
       "       'CodingActivities', 'EdLevel', 'LearnCode', 'LearnCodeOnline',\n",
       "       'LearnCodeCoursesCert', 'YearsCode', 'YearsCodePro', 'DevType',\n",
       "       'OrgSize', 'PurchaseInfluence', 'BuyNewTool', 'Country', 'Currency',\n",
       "       'CompTotal', 'CompFreq', 'LanguageHaveWorkedWith',\n",
       "       'LanguageWantToWorkWith', 'DatabaseHaveWorkedWith',\n",
       "       'DatabaseWantToWorkWith', 'PlatformHaveWorkedWith',\n",
       "       'PlatformWantToWorkWith', 'WebframeHaveWorkedWith',\n",
       "       'WebframeWantToWorkWith', 'MiscTechHaveWorkedWith',\n",
       "       'MiscTechWantToWorkWith', 'ToolsTechHaveWorkedWith',\n",
       "       'ToolsTechWantToWorkWith', 'NEWCollabToolsHaveWorkedWith',\n",
       "       'NEWCollabToolsWantToWorkWith', 'OpSysProfessional use',\n",
       "       'OpSysPersonal use', 'VersionControlSystem', 'VCInteraction',\n",
       "       'VCHostingPersonal use', 'VCHostingProfessional use',\n",
       "       'OfficeStackAsyncHaveWorkedWith', 'OfficeStackAsyncWantToWorkWith',\n",
       "       'OfficeStackSyncHaveWorkedWith', 'OfficeStackSyncWantToWorkWith',\n",
       "       'Blockchain', 'NEWSOSites', 'SOVisitFreq', 'SOAccount', 'SOPartFreq',\n",
       "       'SOComm', 'Age', 'Gender', 'Trans', 'Sexuality', 'Ethnicity',\n",
       "       'Accessibility', 'MentalHealth', 'TBranch', 'ICorPM', 'WorkExp',\n",
       "       'Knowledge_1', 'Knowledge_2', 'Knowledge_3', 'Knowledge_4',\n",
       "       'Knowledge_5', 'Knowledge_6', 'Knowledge_7', 'Frequency_1',\n",
       "       'Frequency_2', 'Frequency_3', 'TimeSearching', 'TimeAnswering',\n",
       "       'Onboarding', 'ProfessionalTech', 'TrueFalse_1', 'TrueFalse_2',\n",
       "       'TrueFalse_3', 'SurveyLength', 'SurveyEase', 'ConvertedCompYearly'],\n",
       "      dtype='object')"
      ]
     },
     "execution_count": 6,
     "metadata": {},
     "output_type": "execute_result"
    }
   ],
   "source": [
    "df.columns"
   ]
  },
  {
   "cell_type": "code",
   "execution_count": 7,
   "id": "a7df07b2",
   "metadata": {
    "scrolled": true
   },
   "outputs": [
    {
     "data": {
      "text/html": [
       "<div>\n",
       "<style scoped>\n",
       "    .dataframe tbody tr th:only-of-type {\n",
       "        vertical-align: middle;\n",
       "    }\n",
       "\n",
       "    .dataframe tbody tr th {\n",
       "        vertical-align: top;\n",
       "    }\n",
       "\n",
       "    .dataframe thead th {\n",
       "        text-align: right;\n",
       "    }\n",
       "</style>\n",
       "<table border=\"1\" class=\"dataframe\">\n",
       "  <thead>\n",
       "    <tr style=\"text-align: right;\">\n",
       "      <th></th>\n",
       "      <th>qid</th>\n",
       "      <th>qname</th>\n",
       "      <th>question</th>\n",
       "      <th>force_resp</th>\n",
       "      <th>type</th>\n",
       "      <th>selector</th>\n",
       "    </tr>\n",
       "  </thead>\n",
       "  <tbody>\n",
       "    <tr>\n",
       "      <th>0</th>\n",
       "      <td>QID16</td>\n",
       "      <td>S0</td>\n",
       "      <td>&lt;div&gt;&lt;span style=\"font-size:19px;\"&gt;&lt;strong&gt;Hel...</td>\n",
       "      <td>False</td>\n",
       "      <td>DB</td>\n",
       "      <td>TB</td>\n",
       "    </tr>\n",
       "    <tr>\n",
       "      <th>1</th>\n",
       "      <td>QID12</td>\n",
       "      <td>MetaInfo</td>\n",
       "      <td>Browser Meta Info</td>\n",
       "      <td>False</td>\n",
       "      <td>Meta</td>\n",
       "      <td>Browser</td>\n",
       "    </tr>\n",
       "    <tr>\n",
       "      <th>2</th>\n",
       "      <td>QID1</td>\n",
       "      <td>S1</td>\n",
       "      <td>&lt;span style=\"font-size:22px; font-family: aria...</td>\n",
       "      <td>False</td>\n",
       "      <td>DB</td>\n",
       "      <td>TB</td>\n",
       "    </tr>\n",
       "    <tr>\n",
       "      <th>3</th>\n",
       "      <td>QID2</td>\n",
       "      <td>MainBranch</td>\n",
       "      <td>Which of the following options best describes ...</td>\n",
       "      <td>True</td>\n",
       "      <td>MC</td>\n",
       "      <td>SAVR</td>\n",
       "    </tr>\n",
       "    <tr>\n",
       "      <th>4</th>\n",
       "      <td>QID296</td>\n",
       "      <td>Employment</td>\n",
       "      <td>Which of the following best describes your cur...</td>\n",
       "      <td>False</td>\n",
       "      <td>MC</td>\n",
       "      <td>MAVR</td>\n",
       "    </tr>\n",
       "  </tbody>\n",
       "</table>\n",
       "</div>"
      ],
      "text/plain": [
       "      qid       qname                                           question  \\\n",
       "0   QID16          S0  <div><span style=\"font-size:19px;\"><strong>Hel...   \n",
       "1   QID12    MetaInfo                                  Browser Meta Info   \n",
       "2    QID1          S1  <span style=\"font-size:22px; font-family: aria...   \n",
       "3    QID2  MainBranch  Which of the following options best describes ...   \n",
       "4  QID296  Employment  Which of the following best describes your cur...   \n",
       "\n",
       "  force_resp  type selector  \n",
       "0      False    DB       TB  \n",
       "1      False  Meta  Browser  \n",
       "2      False    DB       TB  \n",
       "3       True    MC     SAVR  \n",
       "4      False    MC     MAVR  "
      ]
     },
     "execution_count": 7,
     "metadata": {},
     "output_type": "execute_result"
    }
   ],
   "source": [
    "fd.head()"
   ]
  },
  {
   "cell_type": "markdown",
   "id": "9cfa008d",
   "metadata": {},
   "source": [
    "I will use the next function to explore the questions in the data set."
   ]
  },
  {
   "cell_type": "code",
   "execution_count": 8,
   "id": "432c2d3c",
   "metadata": {},
   "outputs": [],
   "source": [
    "def informacion(preg):\n",
    "    return fd.query('qname == \"{}\"'.format(preg))['question'].iloc[0]\n"
   ]
  },
  {
   "cell_type": "markdown",
   "id": "f0a184fc",
   "metadata": {},
   "source": [
    "# Salary\n",
    "I am going to combine the 'CompTotal' and 'CompFreq' columns to get a total salary"
   ]
  },
  {
   "cell_type": "code",
   "execution_count": 9,
   "id": "97e9a42f",
   "metadata": {},
   "outputs": [],
   "source": [
    "dfsalary = df.copy()"
   ]
  },
  {
   "cell_type": "code",
   "execution_count": 10,
   "id": "9c4fe9e0",
   "metadata": {},
   "outputs": [
    {
     "data": {
      "text/plain": [
       "0.47605555555555557"
      ]
     },
     "execution_count": 10,
     "metadata": {},
     "output_type": "execute_result"
    }
   ],
   "source": [
    "dfsalary['CompTotal'].isna().sum()/dfsalary.shape[0]"
   ]
  },
  {
   "cell_type": "code",
   "execution_count": 11,
   "id": "2088fe7b",
   "metadata": {},
   "outputs": [
    {
     "data": {
      "text/plain": [
       "0.394125"
      ]
     },
     "execution_count": 11,
     "metadata": {},
     "output_type": "execute_result"
    }
   ],
   "source": [
    "dfsalary['CompFreq'].isna().sum()/dfsalary.shape[0]"
   ]
  },
  {
   "cell_type": "markdown",
   "id": "02a05407",
   "metadata": {},
   "source": [
    "It is observed that more than 47 % of the data is missing. This is possibly caused because the employees didn't want to answer this question.\n",
    "I am going now to drop this registers."
   ]
  },
  {
   "cell_type": "code",
   "execution_count": 12,
   "id": "11da72f9",
   "metadata": {},
   "outputs": [],
   "source": [
    "dfsalary = dfsalary.dropna(subset=['CompTotal'], axis=0)"
   ]
  },
  {
   "cell_type": "code",
   "execution_count": 13,
   "id": "343df203",
   "metadata": {},
   "outputs": [
    {
     "data": {
      "text/plain": [
       "0.001961615947407486"
      ]
     },
     "execution_count": 13,
     "metadata": {},
     "output_type": "execute_result"
    }
   ],
   "source": [
    "dfsalary['CompFreq'].isna().sum()/dfsalary.shape[0]"
   ]
  },
  {
   "cell_type": "markdown",
   "id": "f2665a99",
   "metadata": {},
   "source": [
    "A small porcentage of surveyed filled the 'CompTotal', but not the 'CompFreq'.  \n",
    "Since it is a very small porcentage, I will drop this data."
   ]
  },
  {
   "cell_type": "code",
   "execution_count": 14,
   "id": "b7601a8c",
   "metadata": {},
   "outputs": [],
   "source": [
    "dfsalary = dfsalary.dropna(subset=['CompFreq'], axis=0)"
   ]
  },
  {
   "cell_type": "code",
   "execution_count": 15,
   "id": "768748f6",
   "metadata": {},
   "outputs": [
    {
     "data": {
      "text/plain": [
       "count    3.765000e+04\n",
       "mean     2.390465e+52\n",
       "std      4.638313e+54\n",
       "min      0.000000e+00\n",
       "25%      3.000000e+04\n",
       "50%      7.724750e+04\n",
       "75%      1.540000e+05\n",
       "max      9.000000e+56\n",
       "Name: CompTotal, dtype: float64"
      ]
     },
     "execution_count": 15,
     "metadata": {},
     "output_type": "execute_result"
    }
   ],
   "source": [
    "dfsalary['CompTotal'].describe()"
   ]
  },
  {
   "cell_type": "markdown",
   "id": "0ff037ad",
   "metadata": {},
   "source": [
    "Here, it can be seen that there are extreme values that have no sense: $9 \\cdot 10^{56}$ \\\\$"
   ]
  },
  {
   "cell_type": "code",
   "execution_count": 16,
   "id": "aa6c5d36",
   "metadata": {},
   "outputs": [
    {
     "data": {
      "text/plain": [
       "35786    9.000000e+56\n",
       "3068     1.000000e+52\n",
       "70597    1.000000e+22\n",
       "17567    1.000000e+15\n",
       "19244    5.000000e+12\n",
       "             ...     \n",
       "55790    0.000000e+00\n",
       "23041    0.000000e+00\n",
       "22777    0.000000e+00\n",
       "2737     0.000000e+00\n",
       "49816    0.000000e+00\n",
       "Name: CompTotal, Length: 37650, dtype: float64"
      ]
     },
     "execution_count": 16,
     "metadata": {},
     "output_type": "execute_result"
    }
   ],
   "source": [
    "dfsalary['CompTotal'].sort_values(ascending=False)"
   ]
  },
  {
   "cell_type": "markdown",
   "id": "7d669739",
   "metadata": {},
   "source": [
    "Some employees report salaries too high to be true, and some of them report 0 \\\\$.  \n",
    "I am going to compute a new column for the total salary, by multiplying 'CompTotal' and 'CompFreq'.  \n",
    "In order to do so, I will convert the frequency column into a dictionary with numerical values:  \n",
    "'Yearly':1, 'Monthly':12, 'Weekly':52  \n",
    "Then, I will clean the extremes values."
   ]
  },
  {
   "cell_type": "code",
   "execution_count": 17,
   "id": "50e41b00",
   "metadata": {},
   "outputs": [
    {
     "data": {
      "text/plain": [
       "array(['Yearly', 'Monthly', 'Weekly'], dtype=object)"
      ]
     },
     "execution_count": 17,
     "metadata": {},
     "output_type": "execute_result"
    }
   ],
   "source": [
    "dfsalary['CompFreq'].unique()"
   ]
  },
  {
   "cell_type": "code",
   "execution_count": 18,
   "id": "1cad8c13",
   "metadata": {},
   "outputs": [],
   "source": [
    "conversion = {'Yearly':1, 'Monthly':12, 'Weekly':52, np.nan:0}"
   ]
  },
  {
   "cell_type": "code",
   "execution_count": 19,
   "id": "90c0179d",
   "metadata": {},
   "outputs": [],
   "source": [
    "dfsalary['CompFreq'] = dfsalary['CompFreq'].map(conversion)"
   ]
  },
  {
   "cell_type": "code",
   "execution_count": 20,
   "id": "3cb89744",
   "metadata": {},
   "outputs": [],
   "source": [
    "dfsalary['Salary'] = df['CompTotal'] * dfsalary['CompFreq']"
   ]
  },
  {
   "cell_type": "code",
   "execution_count": 21,
   "id": "37fe9ea1",
   "metadata": {},
   "outputs": [
    {
     "data": {
      "text/html": [
       "<div>\n",
       "<style scoped>\n",
       "    .dataframe tbody tr th:only-of-type {\n",
       "        vertical-align: middle;\n",
       "    }\n",
       "\n",
       "    .dataframe tbody tr th {\n",
       "        vertical-align: top;\n",
       "    }\n",
       "\n",
       "    .dataframe thead th {\n",
       "        text-align: right;\n",
       "    }\n",
       "</style>\n",
       "<table border=\"1\" class=\"dataframe\">\n",
       "  <thead>\n",
       "    <tr style=\"text-align: right;\">\n",
       "      <th></th>\n",
       "      <th>CompTotal</th>\n",
       "      <th>CompFreq</th>\n",
       "      <th>Salary</th>\n",
       "    </tr>\n",
       "  </thead>\n",
       "  <tbody>\n",
       "    <tr>\n",
       "      <th>2</th>\n",
       "      <td>32000.0</td>\n",
       "      <td>1</td>\n",
       "      <td>32000.0</td>\n",
       "    </tr>\n",
       "    <tr>\n",
       "      <th>3</th>\n",
       "      <td>60000.0</td>\n",
       "      <td>12</td>\n",
       "      <td>720000.0</td>\n",
       "    </tr>\n",
       "    <tr>\n",
       "      <th>8</th>\n",
       "      <td>46000.0</td>\n",
       "      <td>1</td>\n",
       "      <td>46000.0</td>\n",
       "    </tr>\n",
       "    <tr>\n",
       "      <th>10</th>\n",
       "      <td>48000.0</td>\n",
       "      <td>1</td>\n",
       "      <td>48000.0</td>\n",
       "    </tr>\n",
       "    <tr>\n",
       "      <th>11</th>\n",
       "      <td>194400.0</td>\n",
       "      <td>1</td>\n",
       "      <td>194400.0</td>\n",
       "    </tr>\n",
       "    <tr>\n",
       "      <th>...</th>\n",
       "      <td>...</td>\n",
       "      <td>...</td>\n",
       "      <td>...</td>\n",
       "    </tr>\n",
       "    <tr>\n",
       "      <th>71989</th>\n",
       "      <td>183000.0</td>\n",
       "      <td>1</td>\n",
       "      <td>183000.0</td>\n",
       "    </tr>\n",
       "    <tr>\n",
       "      <th>71990</th>\n",
       "      <td>60000.0</td>\n",
       "      <td>1</td>\n",
       "      <td>60000.0</td>\n",
       "    </tr>\n",
       "    <tr>\n",
       "      <th>71992</th>\n",
       "      <td>260000.0</td>\n",
       "      <td>1</td>\n",
       "      <td>260000.0</td>\n",
       "    </tr>\n",
       "    <tr>\n",
       "      <th>71996</th>\n",
       "      <td>9000.0</td>\n",
       "      <td>12</td>\n",
       "      <td>108000.0</td>\n",
       "    </tr>\n",
       "    <tr>\n",
       "      <th>71999</th>\n",
       "      <td>60000.0</td>\n",
       "      <td>1</td>\n",
       "      <td>60000.0</td>\n",
       "    </tr>\n",
       "  </tbody>\n",
       "</table>\n",
       "<p>37650 rows × 3 columns</p>\n",
       "</div>"
      ],
      "text/plain": [
       "       CompTotal  CompFreq    Salary\n",
       "2        32000.0         1   32000.0\n",
       "3        60000.0        12  720000.0\n",
       "8        46000.0         1   46000.0\n",
       "10       48000.0         1   48000.0\n",
       "11      194400.0         1  194400.0\n",
       "...          ...       ...       ...\n",
       "71989   183000.0         1  183000.0\n",
       "71990    60000.0         1   60000.0\n",
       "71992   260000.0         1  260000.0\n",
       "71996     9000.0        12  108000.0\n",
       "71999    60000.0         1   60000.0\n",
       "\n",
       "[37650 rows x 3 columns]"
      ]
     },
     "execution_count": 21,
     "metadata": {},
     "output_type": "execute_result"
    }
   ],
   "source": [
    "dfsalary[['CompTotal','CompFreq','Salary']]"
   ]
  },
  {
   "cell_type": "code",
   "execution_count": 22,
   "id": "76a15cf9",
   "metadata": {},
   "outputs": [
    {
     "data": {
      "text/plain": [
       "77"
      ]
     },
     "execution_count": 22,
     "metadata": {},
     "output_type": "execute_result"
    }
   ],
   "source": [
    "(dfsalary['Salary']==0).sum()"
   ]
  },
  {
   "cell_type": "markdown",
   "id": "feb40646",
   "metadata": {},
   "source": [
    "There are 77 surveyed that report a 0 \\\\$ salary.  \n",
    "I will erase those records."
   ]
  },
  {
   "cell_type": "code",
   "execution_count": 23,
   "id": "ee8e057b",
   "metadata": {},
   "outputs": [],
   "source": [
    "dfsalary = dfsalary[dfsalary['Salary']>0]"
   ]
  },
  {
   "cell_type": "code",
   "execution_count": 24,
   "id": "2b52cb90",
   "metadata": {},
   "outputs": [
    {
     "data": {
      "text/html": [
       "<div>\n",
       "<style scoped>\n",
       "    .dataframe tbody tr th:only-of-type {\n",
       "        vertical-align: middle;\n",
       "    }\n",
       "\n",
       "    .dataframe tbody tr th {\n",
       "        vertical-align: top;\n",
       "    }\n",
       "\n",
       "    .dataframe thead th {\n",
       "        text-align: right;\n",
       "    }\n",
       "</style>\n",
       "<table border=\"1\" class=\"dataframe\">\n",
       "  <thead>\n",
       "    <tr style=\"text-align: right;\">\n",
       "      <th></th>\n",
       "      <th>CompTotal</th>\n",
       "      <th>CompFreq</th>\n",
       "      <th>Salary</th>\n",
       "    </tr>\n",
       "  </thead>\n",
       "  <tbody>\n",
       "    <tr>\n",
       "      <th>count</th>\n",
       "      <td>3.757300e+04</td>\n",
       "      <td>37573.000000</td>\n",
       "      <td>3.757300e+04</td>\n",
       "    </tr>\n",
       "    <tr>\n",
       "      <th>mean</th>\n",
       "      <td>2.395364e+52</td>\n",
       "      <td>6.351609</td>\n",
       "      <td>1.245589e+54</td>\n",
       "    </tr>\n",
       "    <tr>\n",
       "      <th>std</th>\n",
       "      <td>4.643063e+54</td>\n",
       "      <td>8.595497</td>\n",
       "      <td>2.414393e+56</td>\n",
       "    </tr>\n",
       "    <tr>\n",
       "      <th>min</th>\n",
       "      <td>1.000000e+00</td>\n",
       "      <td>1.000000</td>\n",
       "      <td>1.000000e+00</td>\n",
       "    </tr>\n",
       "    <tr>\n",
       "      <th>25%</th>\n",
       "      <td>3.000000e+04</td>\n",
       "      <td>1.000000</td>\n",
       "      <td>6.000000e+04</td>\n",
       "    </tr>\n",
       "    <tr>\n",
       "      <th>50%</th>\n",
       "      <td>7.800000e+04</td>\n",
       "      <td>1.000000</td>\n",
       "      <td>1.216360e+05</td>\n",
       "    </tr>\n",
       "    <tr>\n",
       "      <th>75%</th>\n",
       "      <td>1.550000e+05</td>\n",
       "      <td>12.000000</td>\n",
       "      <td>3.720000e+05</td>\n",
       "    </tr>\n",
       "    <tr>\n",
       "      <th>max</th>\n",
       "      <td>9.000000e+56</td>\n",
       "      <td>52.000000</td>\n",
       "      <td>4.680000e+58</td>\n",
       "    </tr>\n",
       "  </tbody>\n",
       "</table>\n",
       "</div>"
      ],
      "text/plain": [
       "          CompTotal      CompFreq        Salary\n",
       "count  3.757300e+04  37573.000000  3.757300e+04\n",
       "mean   2.395364e+52      6.351609  1.245589e+54\n",
       "std    4.643063e+54      8.595497  2.414393e+56\n",
       "min    1.000000e+00      1.000000  1.000000e+00\n",
       "25%    3.000000e+04      1.000000  6.000000e+04\n",
       "50%    7.800000e+04      1.000000  1.216360e+05\n",
       "75%    1.550000e+05     12.000000  3.720000e+05\n",
       "max    9.000000e+56     52.000000  4.680000e+58"
      ]
     },
     "execution_count": 24,
     "metadata": {},
     "output_type": "execute_result"
    }
   ],
   "source": [
    "dfsalary[['CompTotal','CompFreq','Salary']].describe()"
   ]
  },
  {
   "cell_type": "markdown",
   "id": "f7badbd6",
   "metadata": {},
   "source": [
    "In order to get a clearer graph, I am going to clean the upper extreme values.  \n",
    "In these data, given the private nature of the question (salary), there are many wrong answers that can be interpreted as a refusal to reply.  \n",
    "So I will leave out of the graph all the outlayers"
   ]
  },
  {
   "cell_type": "code",
   "execution_count": 25,
   "id": "c2bf9d82",
   "metadata": {},
   "outputs": [],
   "source": [
    "upperlim = 150000"
   ]
  },
  {
   "cell_type": "code",
   "execution_count": 26,
   "id": "b62c5201",
   "metadata": {
    "scrolled": false
   },
   "outputs": [
    {
     "data": {
      "image/png": "[encoded data removed]",
      "text/plain": [
       "<Figure size 576x432 with 1 Axes>"
      ]
     },
     "metadata": {
      "needs_background": "light"
     },
     "output_type": "display_data"
    }
   ],
   "source": [
    "plt.figure(figsize=(8,6));\n",
    "sns.boxplot(x = dfsalary[dfsalary['Salary']<upperlim]['Salary'],fliersize=2);"
   ]
  },
  {
   "cell_type": "markdown",
   "id": "3cef5733",
   "metadata": {},
   "source": [
    "However, for the histogram I will represent some more data."
   ]
  },
  {
   "cell_type": "code",
   "execution_count": 27,
   "id": "d0a8a593",
   "metadata": {},
   "outputs": [],
   "source": [
    "upperlimhist = 400000"
   ]
  },
  {
   "cell_type": "code",
   "execution_count": 28,
   "id": "9b7cef0d",
   "metadata": {
    "scrolled": false
   },
   "outputs": [
    {
     "data": {
      "image/png": "[encoded data removed]",
      "text/plain": [
       "<Figure size 432x288 with 1 Axes>"
      ]
     },
     "metadata": {
      "needs_background": "light"
     },
     "output_type": "display_data"
    }
   ],
   "source": [
    "dfsalary[dfsalary['Salary']<upperlimhist]['Salary'].hist();"
   ]
  },
  {
   "cell_type": "code",
   "execution_count": 29,
   "id": "3373c30a",
   "metadata": {},
   "outputs": [
    {
     "data": {
      "text/plain": [
       "count     28346.000000\n",
       "mean     109732.371410\n",
       "std       79272.758284\n",
       "min           1.000000\n",
       "25%       50400.000000\n",
       "50%       90000.000000\n",
       "75%      150000.000000\n",
       "max      398400.000000\n",
       "Name: Salary, dtype: float64"
      ]
     },
     "execution_count": 29,
     "metadata": {},
     "output_type": "execute_result"
    }
   ],
   "source": [
    "dfsalary[dfsalary['Salary']<upperlimhist]['Salary'].describe()"
   ]
  },
  {
   "cell_type": "markdown",
   "id": "324a4c57",
   "metadata": {},
   "source": [
    "Given that the mean is very sensitive to extreme values, and the maximum value that we find in the salary is $10^{52}$, I must be very careful when studying the mean salary.  \n",
    "I should remove those values that are too high, even when I am not sure if I am also removing some genuine values."
   ]
  },
  {
   "cell_type": "markdown",
   "id": "dd174897",
   "metadata": {},
   "source": [
    "## Education Level\n",
    "Now let's study the education level of the employees"
   ]
  },
  {
   "cell_type": "code",
   "execution_count": 30,
   "id": "2d2a5c24",
   "metadata": {},
   "outputs": [
    {
     "data": {
      "text/plain": [
       "17"
      ]
     },
     "execution_count": 30,
     "metadata": {},
     "output_type": "execute_result"
    }
   ],
   "source": [
    "dfsalary['EdLevel'].isna().sum()"
   ]
  },
  {
   "cell_type": "markdown",
   "id": "303eb315",
   "metadata": {},
   "source": [
    "There are 17 records without `Education level`, so I delete them"
   ]
  },
  {
   "cell_type": "code",
   "execution_count": 31,
   "id": "5433d0c8",
   "metadata": {},
   "outputs": [],
   "source": [
    "# dfsalary = dfsalary.dropna(subset=['Edlevel'], axis=0)\n",
    "dfsalary = dfsalary.dropna(subset=['EdLevel'])"
   ]
  },
  {
   "cell_type": "markdown",
   "id": "635f0ace",
   "metadata": {},
   "source": [
    "Let's take a look of the distribution of these values:"
   ]
  },
  {
   "cell_type": "code",
   "execution_count": 32,
   "id": "a5ca3afe",
   "metadata": {
    "scrolled": true
   },
   "outputs": [
    {
     "data": {
      "image/png": "[encoded data removed]",
      "text/plain": [
       "<Figure size 432x288 with 1 Axes>"
      ]
     },
     "metadata": {
      "needs_background": "light"
     },
     "output_type": "display_data"
    }
   ],
   "source": [
    "(dfsalary['EdLevel'].value_counts()/dfsalary.shape[0]).plot(kind='barh',);"
   ]
  },
  {
   "cell_type": "markdown",
   "id": "55ee5318",
   "metadata": {},
   "source": [
    "Let's study the salary again, by grouping `Education Level`, to see if we can find any relationship between the two variables."
   ]
  },
  {
   "cell_type": "code",
   "execution_count": 33,
   "id": "712d3e9c",
   "metadata": {
    "scrolled": true
   },
   "outputs": [
    {
     "data": {
      "image/png": "[encoded data removed]",
      "text/plain": [
       "<Figure size 432x288 with 1 Axes>"
      ]
     },
     "metadata": {
      "needs_background": "light"
     },
     "output_type": "display_data"
    }
   ],
   "source": [
    "sns.boxplot(x=dfsalary[dfsalary['Salary']<upperlim]['Salary'], y = dfsalary['EdLevel'],fliersize = 1);"
   ]
  },
  {
   "cell_type": "markdown",
   "id": "03155826",
   "metadata": {},
   "source": [
    "It looks like there's no relationship between `salary` and `Education Level`.\n",
    "But the names in the graph are too long, let's fix this.  \n",
    "Let's define a function that will take only the two first words of each entry, for instance:  \n",
    "**Master's degree (M.A., M.S.m M.Eng., MBA, etc)** becomes **Master's degree**"
   ]
  },
  {
   "cell_type": "code",
   "execution_count": 34,
   "id": "436ce9ef",
   "metadata": {
    "scrolled": true
   },
   "outputs": [],
   "source": [
    "recortado = list(dfsalary['EdLevel'].unique())\n",
    "# recortado = []\n",
    "for i,estudio in enumerate(dfsalary['EdLevel'].unique()):\n",
    "    recortado[i] = estudio.split()[0] + ' ' + estudio.split()[1]\n",
    "#     print(estudio)\n",
    "recortado\n",
    "def trans(texto):\n",
    "    traduccion = {x:y for x,y in zip(list(dfsalary['EdLevel'].unique()),recortado)}\n",
    "    return traduccion[texto]"
   ]
  },
  {
   "cell_type": "code",
   "execution_count": 35,
   "id": "54a32ab0",
   "metadata": {},
   "outputs": [
    {
     "data": {
      "text/plain": [
       "array(['Master’s degree (M.A., M.S., M.Eng., MBA, etc.)',\n",
       "       'Bachelor’s degree (B.A., B.S., B.Eng., etc.)',\n",
       "       'Secondary school (e.g. American high school, German Realschule or Gymnasium, etc.)',\n",
       "       'Something else', 'Associate degree (A.A., A.S., etc.)',\n",
       "       'Some college/university study without earning a degree',\n",
       "       'Professional degree (JD, MD, etc.)',\n",
       "       'Other doctoral degree (Ph.D., Ed.D., etc.)',\n",
       "       'Primary/elementary school'], dtype=object)"
      ]
     },
     "execution_count": 35,
     "metadata": {},
     "output_type": "execute_result"
    }
   ],
   "source": [
    "dfsalary['EdLevel'].unique()"
   ]
  },
  {
   "cell_type": "markdown",
   "id": "b302dc13",
   "metadata": {},
   "source": [
    "Those are the values before transformation"
   ]
  },
  {
   "cell_type": "code",
   "execution_count": 36,
   "id": "99599e84",
   "metadata": {},
   "outputs": [],
   "source": [
    "dfsalary['EdLevel'] = dfsalary['EdLevel'].apply(trans)"
   ]
  },
  {
   "cell_type": "code",
   "execution_count": 37,
   "id": "3d25be7d",
   "metadata": {
    "scrolled": true
   },
   "outputs": [
    {
     "data": {
      "text/plain": [
       "<bound method IndexOpsMixin.nunique of 2                  Master’s degree\n",
       "3                Bachelor’s degree\n",
       "8                  Master’s degree\n",
       "10               Bachelor’s degree\n",
       "11               Bachelor’s degree\n",
       "                   ...            \n",
       "71989    Primary/elementary school\n",
       "71990             Secondary school\n",
       "71992              Master’s degree\n",
       "71996      Some college/university\n",
       "71999              Master’s degree\n",
       "Name: EdLevel, Length: 37556, dtype: object>"
      ]
     },
     "execution_count": 37,
     "metadata": {},
     "output_type": "execute_result"
    }
   ],
   "source": [
    "dfsalary['EdLevel'].nunique"
   ]
  },
  {
   "cell_type": "markdown",
   "id": "53416682",
   "metadata": {},
   "source": [
    "And those are the values after the transformation"
   ]
  },
  {
   "cell_type": "code",
   "execution_count": 38,
   "id": "6b67c2aa",
   "metadata": {
    "scrolled": false
   },
   "outputs": [
    {
     "data": {
      "image/png": "[encoded data removed]",
      "text/plain": [
       "<Figure size 864x576 with 1 Axes>"
      ]
     },
     "metadata": {
      "needs_background": "light"
     },
     "output_type": "display_data"
    }
   ],
   "source": [
    "plt.figure(figsize=(12,8));\n",
    "(dfsalary['EdLevel'].value_counts()/dfsalary.shape[0]).plot(kind='barh');"
   ]
  },
  {
   "cell_type": "code",
   "execution_count": 39,
   "id": "4f205f88",
   "metadata": {
    "scrolled": false
   },
   "outputs": [
    {
     "data": {
      "image/png": "[encoded data removed]",
      "text/plain": [
       "<Figure size 864x576 with 1 Axes>"
      ]
     },
     "metadata": {
      "needs_background": "light"
     },
     "output_type": "display_data"
    }
   ],
   "source": [
    "plt.figure(figsize=(12,8));\n",
    "sns.boxplot(x=dfsalary[dfsalary['Salary']<upperlim]['Salary'], y = dfsalary['EdLevel'],fliersize = 1);"
   ]
  },
  {
   "cell_type": "markdown",
   "id": "7418b3bb",
   "metadata": {},
   "source": [
    "## Remote work\n",
    "I want to check how the situation is after the pandemic, and if remote work had become the standard."
   ]
  },
  {
   "cell_type": "code",
   "execution_count": 40,
   "id": "88185118",
   "metadata": {
    "scrolled": false
   },
   "outputs": [
    {
     "data": {
      "image/png": "[encoded data removed]",
      "text/plain": [
       "<Figure size 720x432 with 1 Axes>"
      ]
     },
     "metadata": {
      "needs_background": "light"
     },
     "output_type": "display_data"
    }
   ],
   "source": [
    "remoto = (df['RemoteWork'][df['RemoteWork'].notna()].value_counts()/df['RemoteWork'].notna().sum())\n",
    "remoto.index = ['Fully remote', 'Hybrid','Full in-person']\n",
    "plt.figure(figsize = (10,6))\n",
    "plt.barh(remoto.index,remoto)\n",
    "for index , value in enumerate(remoto):\n",
    "    plt.text(value,index, str(np.round(value,2)))\n"
   ]
  },
  {
   "cell_type": "markdown",
   "id": "6fdcbd90",
   "metadata": {},
   "source": [
    "This simple graph shows that the answer is a big yes."
   ]
  },
  {
   "cell_type": "markdown",
   "id": "196ea4c9",
   "metadata": {},
   "source": [
    "# Years of experience in coding"
   ]
  },
  {
   "cell_type": "markdown",
   "id": "21628a64",
   "metadata": {},
   "source": [
    "Let's compare the `YearsCode` and `YearsCodePro` columns, to see how much time took for the developers, to become proffessionals.  \n",
    "Let's create a new copy of the data set."
   ]
  },
  {
   "cell_type": "code",
   "execution_count": 41,
   "id": "f17cf836",
   "metadata": {
    "scrolled": false
   },
   "outputs": [
    {
     "data": {
      "image/png": "[encoded data removed]",
      "text/plain": [
       "<Figure size 576x432 with 1 Axes>"
      ]
     },
     "metadata": {
      "needs_background": "light"
     },
     "output_type": "display_data"
    }
   ],
   "source": [
    "programando = df.copy()\n",
    "plt.legend('Years coding')\n",
    "(programando['YearsCode'].value_counts()/programando.shape[0]).plot(figsize=(8,6));\n",
    "(programando['YearsCodePro'].value_counts()/programando.shape[0]).plot();\n",
    "plt.legend(bbox_to_anchor=(1.0, 1.0))\n",
    "plt.title('Years of coding')\n",
    "plt.xlabel('YEARS')\n",
    "plt.ylabel('Proportion')\n",
    "plt.show()"
   ]
  },
  {
   "cell_type": "markdown",
   "id": "efe2cd55",
   "metadata": {},
   "source": [
    "It is shown that YearsCode es highter than YearsCodePro, as espected."
   ]
  },
  {
   "cell_type": "markdown",
   "id": "85bd9b0d",
   "metadata": {},
   "source": [
    "### Creating a new column with the time that took to become pro\n",
    "I want to subtract the YearsCode and YearsCodePro columns.  \n",
    "There are several problems:   \n",
    "The years are registered as strings.  \n",
    "This can solved because the string \"3\" is easily convertible to the integer `3`  \n",
    "There are two values that will give us problems with this approach:  \n",
    "\"Less than 1 year\" and \"More than 50 years\"  \n",
    "To solve this let's create a function that maps the entire column. "
   ]
  },
  {
   "cell_type": "code",
   "execution_count": 42,
   "id": "f1ddd8c3",
   "metadata": {},
   "outputs": [
    {
     "data": {
      "text/html": [
       "<div>\n",
       "<style scoped>\n",
       "    .dataframe tbody tr th:only-of-type {\n",
       "        vertical-align: middle;\n",
       "    }\n",
       "\n",
       "    .dataframe tbody tr th {\n",
       "        vertical-align: top;\n",
       "    }\n",
       "\n",
       "    .dataframe thead th {\n",
       "        text-align: right;\n",
       "    }\n",
       "</style>\n",
       "<table border=\"1\" class=\"dataframe\">\n",
       "  <thead>\n",
       "    <tr style=\"text-align: right;\">\n",
       "      <th></th>\n",
       "      <th>YearsCode</th>\n",
       "      <th>YearsCodePro</th>\n",
       "    </tr>\n",
       "  </thead>\n",
       "  <tbody>\n",
       "    <tr>\n",
       "      <th>0</th>\n",
       "      <td>NaN</td>\n",
       "      <td>NaN</td>\n",
       "    </tr>\n",
       "    <tr>\n",
       "      <th>1</th>\n",
       "      <td>NaN</td>\n",
       "      <td>NaN</td>\n",
       "    </tr>\n",
       "    <tr>\n",
       "      <th>2</th>\n",
       "      <td>14</td>\n",
       "      <td>5</td>\n",
       "    </tr>\n",
       "    <tr>\n",
       "      <th>3</th>\n",
       "      <td>20</td>\n",
       "      <td>17</td>\n",
       "    </tr>\n",
       "    <tr>\n",
       "      <th>4</th>\n",
       "      <td>8</td>\n",
       "      <td>3</td>\n",
       "    </tr>\n",
       "  </tbody>\n",
       "</table>\n",
       "</div>"
      ],
      "text/plain": [
       "  YearsCode YearsCodePro\n",
       "0       NaN          NaN\n",
       "1       NaN          NaN\n",
       "2        14            5\n",
       "3        20           17\n",
       "4         8            3"
      ]
     },
     "execution_count": 42,
     "metadata": {},
     "output_type": "execute_result"
    }
   ],
   "source": [
    "programando[['YearsCode','YearsCodePro']].head()"
   ]
  },
  {
   "cell_type": "markdown",
   "id": "da1e03f9",
   "metadata": {},
   "source": [
    "#### For this it's needed to take care of some problems:\n",
    "- Null values\n",
    "- Str values that we cannot subtract"
   ]
  },
  {
   "cell_type": "markdown",
   "id": "8ce11699",
   "metadata": {},
   "source": [
    "### Remove null values"
   ]
  },
  {
   "cell_type": "code",
   "execution_count": 43,
   "id": "6cbcd802",
   "metadata": {
    "scrolled": true
   },
   "outputs": [
    {
     "data": {
      "text/plain": [
       "YearsCode       0.026222\n",
       "YearsCodePro    0.292861\n",
       "dtype: float64"
      ]
     },
     "execution_count": 43,
     "metadata": {},
     "output_type": "execute_result"
    }
   ],
   "source": [
    "programando.isna()[['YearsCode','YearsCodePro']].mean()"
   ]
  },
  {
   "cell_type": "markdown",
   "id": "187e5aea",
   "metadata": {},
   "source": [
    "There are a lot of missing values in the `YearsCodePro` (29%).  \n",
    "Let's check if someone didn't fill that column, but did fill the `YearsCode`.  \n",
    "That could be a good idea for inputing those values into the missing values of the `YearsCodePro` columns.  \n",
    "However, in our case, this solution does not work, since we are interested in the difference between these two columns. Inputting these data, the difference would be 0."
   ]
  },
  {
   "cell_type": "code",
   "execution_count": 44,
   "id": "70323e20",
   "metadata": {},
   "outputs": [
    {
     "data": {
      "text/plain": [
       "YearsCodePro    19278\n",
       "YearsCode           0\n",
       "dtype: int64"
      ]
     },
     "execution_count": 44,
     "metadata": {},
     "output_type": "execute_result"
    }
   ],
   "source": [
    "programando[(programando['YearsCodePro'].map(lambda x: pd.isna(x))) &\n",
    "            (programando['YearsCode'].map(lambda x: pd.notna(x)))][['YearsCodePro','YearsCode']].isna().sum()"
   ]
  },
  {
   "cell_type": "markdown",
   "id": "b813e031",
   "metadata": {},
   "source": [
    "It shows that we could compute a total of 19278 values, but as mentioned before, that solution is not valid in our case.  \n",
    "Thus, let's delete the missing data."
   ]
  },
  {
   "cell_type": "code",
   "execution_count": 45,
   "id": "41f90ea2",
   "metadata": {},
   "outputs": [],
   "source": [
    "programando = programando.dropna(subset=['YearsCode','YearsCodePro'])"
   ]
  },
  {
   "cell_type": "markdown",
   "id": "bdc45fdf",
   "metadata": {},
   "source": [
    "### Transforming values that cannot operate with\n",
    "- 'Less than 1 year' will become  **0**\n",
    "- 'More than 50 years' will become **50**"
   ]
  },
  {
   "cell_type": "code",
   "execution_count": 46,
   "id": "67b1a1af",
   "metadata": {},
   "outputs": [],
   "source": [
    "def traducir(valor):\n",
    "    if valor == 'Less than 1 year':\n",
    "        return '0'\n",
    "    elif valor == 'More than 50 years':\n",
    "        return '50'\n",
    "    return valor"
   ]
  },
  {
   "cell_type": "code",
   "execution_count": 47,
   "id": "5343dac6",
   "metadata": {},
   "outputs": [],
   "source": [
    "programando['YearsCode'] = programando['YearsCode'].apply(traducir)\n",
    "programando['YearsCodePro'] = programando['YearsCodePro'].apply(traducir)"
   ]
  },
  {
   "cell_type": "code",
   "execution_count": 48,
   "id": "3035ee03",
   "metadata": {},
   "outputs": [
    {
     "data": {
      "image/png": "[encoded data removed]",
      "text/plain": [
       "<Figure size 576x432 with 1 Axes>"
      ]
     },
     "metadata": {
      "needs_background": "light"
     },
     "output_type": "display_data"
    }
   ],
   "source": [
    "programando['YearsCode'].value_counts().plot(figsize=(8,6));\n",
    "programando['YearsCodePro'].value_counts().plot();\n",
    "plt.legend(bbox_to_anchor=(1.0, 1.0))\n",
    "plt.show()\n"
   ]
  },
  {
   "cell_type": "markdown",
   "id": "384ed701",
   "metadata": {},
   "source": [
    "Our chart has changed slightly we adding some 0's that were previously 'less than 1 year'"
   ]
  },
  {
   "cell_type": "markdown",
   "id": "81f63517",
   "metadata": {},
   "source": [
    "Let's create a new column resulting from subtracting the columns `['YearsCode']` and `['YearsCodePro']`"
   ]
  },
  {
   "cell_type": "markdown",
   "id": "f5b7f708",
   "metadata": {},
   "source": [
    "Let's check if there is any value indicating that someone has been programming more years as a proffessional developer than years coding in total, which doesn't make sense."
   ]
  },
  {
   "cell_type": "code",
   "execution_count": 49,
   "id": "bfdd38f5",
   "metadata": {},
   "outputs": [
    {
     "data": {
      "text/plain": [
       "0.2283117598457725"
      ]
     },
     "execution_count": 49,
     "metadata": {},
     "output_type": "execute_result"
    }
   ],
   "source": [
    "(programando['YearsCodePro'] > programando['YearsCode']).mean()"
   ]
  },
  {
   "cell_type": "markdown",
   "id": "ae478e67",
   "metadata": {},
   "source": [
    "There is more than 22% of data that does not make sense.  \n",
    "Let's create the difference column and see what it looks like."
   ]
  },
  {
   "cell_type": "code",
   "execution_count": 50,
   "id": "dfabc04b",
   "metadata": {
    "scrolled": true
   },
   "outputs": [],
   "source": [
    "programando['Difference'] = (programando['YearsCode'].astype('int32')  - programando['YearsCodePro'].astype('int32')).astype('object')"
   ]
  },
  {
   "cell_type": "code",
   "execution_count": 51,
   "id": "bb8b0306",
   "metadata": {},
   "outputs": [
    {
     "data": {
      "text/html": [
       "<div>\n",
       "<style scoped>\n",
       "    .dataframe tbody tr th:only-of-type {\n",
       "        vertical-align: middle;\n",
       "    }\n",
       "\n",
       "    .dataframe tbody tr th {\n",
       "        vertical-align: top;\n",
       "    }\n",
       "\n",
       "    .dataframe thead th {\n",
       "        text-align: right;\n",
       "    }\n",
       "</style>\n",
       "<table border=\"1\" class=\"dataframe\">\n",
       "  <thead>\n",
       "    <tr style=\"text-align: right;\">\n",
       "      <th></th>\n",
       "      <th>YearsCode</th>\n",
       "      <th>YearsCodePro</th>\n",
       "      <th>Difference</th>\n",
       "    </tr>\n",
       "  </thead>\n",
       "  <tbody>\n",
       "    <tr>\n",
       "      <th>2</th>\n",
       "      <td>14</td>\n",
       "      <td>5</td>\n",
       "      <td>9</td>\n",
       "    </tr>\n",
       "    <tr>\n",
       "      <th>3</th>\n",
       "      <td>20</td>\n",
       "      <td>17</td>\n",
       "      <td>3</td>\n",
       "    </tr>\n",
       "    <tr>\n",
       "      <th>4</th>\n",
       "      <td>8</td>\n",
       "      <td>3</td>\n",
       "      <td>5</td>\n",
       "    </tr>\n",
       "    <tr>\n",
       "      <th>8</th>\n",
       "      <td>6</td>\n",
       "      <td>6</td>\n",
       "      <td>0</td>\n",
       "    </tr>\n",
       "    <tr>\n",
       "      <th>9</th>\n",
       "      <td>37</td>\n",
       "      <td>30</td>\n",
       "      <td>7</td>\n",
       "    </tr>\n",
       "    <tr>\n",
       "      <th>10</th>\n",
       "      <td>5</td>\n",
       "      <td>2</td>\n",
       "      <td>3</td>\n",
       "    </tr>\n",
       "    <tr>\n",
       "      <th>11</th>\n",
       "      <td>12</td>\n",
       "      <td>10</td>\n",
       "      <td>2</td>\n",
       "    </tr>\n",
       "  </tbody>\n",
       "</table>\n",
       "</div>"
      ],
      "text/plain": [
       "   YearsCode YearsCodePro Difference\n",
       "2         14            5          9\n",
       "3         20           17          3\n",
       "4          8            3          5\n",
       "8          6            6          0\n",
       "9         37           30          7\n",
       "10         5            2          3\n",
       "11        12           10          2"
      ]
     },
     "execution_count": 51,
     "metadata": {},
     "output_type": "execute_result"
    }
   ],
   "source": [
    "programando[['YearsCode','YearsCodePro','Difference']].head(7)"
   ]
  },
  {
   "cell_type": "markdown",
   "id": "215088f6",
   "metadata": {},
   "source": [
    "It cannot be appreciated at first sight just by looking within the first rows, but let's search those values where the difference is negative"
   ]
  },
  {
   "cell_type": "code",
   "execution_count": 52,
   "id": "5d23c628",
   "metadata": {},
   "outputs": [
    {
     "data": {
      "text/html": [
       "<div>\n",
       "<style scoped>\n",
       "    .dataframe tbody tr th:only-of-type {\n",
       "        vertical-align: middle;\n",
       "    }\n",
       "\n",
       "    .dataframe tbody tr th {\n",
       "        vertical-align: top;\n",
       "    }\n",
       "\n",
       "    .dataframe thead th {\n",
       "        text-align: right;\n",
       "    }\n",
       "</style>\n",
       "<table border=\"1\" class=\"dataframe\">\n",
       "  <thead>\n",
       "    <tr style=\"text-align: right;\">\n",
       "      <th></th>\n",
       "      <th>YearsCode</th>\n",
       "      <th>YearsCodePro</th>\n",
       "      <th>Difference</th>\n",
       "    </tr>\n",
       "  </thead>\n",
       "  <tbody>\n",
       "    <tr>\n",
       "      <th>259</th>\n",
       "      <td>9</td>\n",
       "      <td>11</td>\n",
       "      <td>-2</td>\n",
       "    </tr>\n",
       "    <tr>\n",
       "      <th>455</th>\n",
       "      <td>12</td>\n",
       "      <td>20</td>\n",
       "      <td>-8</td>\n",
       "    </tr>\n",
       "    <tr>\n",
       "      <th>911</th>\n",
       "      <td>2</td>\n",
       "      <td>3</td>\n",
       "      <td>-1</td>\n",
       "    </tr>\n",
       "    <tr>\n",
       "      <th>1309</th>\n",
       "      <td>12</td>\n",
       "      <td>22</td>\n",
       "      <td>-10</td>\n",
       "    </tr>\n",
       "    <tr>\n",
       "      <th>1585</th>\n",
       "      <td>4</td>\n",
       "      <td>15</td>\n",
       "      <td>-11</td>\n",
       "    </tr>\n",
       "    <tr>\n",
       "      <th>...</th>\n",
       "      <td>...</td>\n",
       "      <td>...</td>\n",
       "      <td>...</td>\n",
       "    </tr>\n",
       "    <tr>\n",
       "      <th>71060</th>\n",
       "      <td>12</td>\n",
       "      <td>15</td>\n",
       "      <td>-3</td>\n",
       "    </tr>\n",
       "    <tr>\n",
       "      <th>71113</th>\n",
       "      <td>25</td>\n",
       "      <td>30</td>\n",
       "      <td>-5</td>\n",
       "    </tr>\n",
       "    <tr>\n",
       "      <th>71361</th>\n",
       "      <td>2</td>\n",
       "      <td>4</td>\n",
       "      <td>-2</td>\n",
       "    </tr>\n",
       "    <tr>\n",
       "      <th>71439</th>\n",
       "      <td>1</td>\n",
       "      <td>5</td>\n",
       "      <td>-4</td>\n",
       "    </tr>\n",
       "    <tr>\n",
       "      <th>71967</th>\n",
       "      <td>9</td>\n",
       "      <td>10</td>\n",
       "      <td>-1</td>\n",
       "    </tr>\n",
       "  </tbody>\n",
       "</table>\n",
       "<p>536 rows × 3 columns</p>\n",
       "</div>"
      ],
      "text/plain": [
       "      YearsCode YearsCodePro Difference\n",
       "259           9           11         -2\n",
       "455          12           20         -8\n",
       "911           2            3         -1\n",
       "1309         12           22        -10\n",
       "1585          4           15        -11\n",
       "...         ...          ...        ...\n",
       "71060        12           15         -3\n",
       "71113        25           30         -5\n",
       "71361         2            4         -2\n",
       "71439         1            5         -4\n",
       "71967         9           10         -1\n",
       "\n",
       "[536 rows x 3 columns]"
      ]
     },
     "execution_count": 52,
     "metadata": {},
     "output_type": "execute_result"
    }
   ],
   "source": [
    "programando[programando['Difference'].astype('int32') < 0][['YearsCode','YearsCodePro','Difference']]"
   ]
  },
  {
   "cell_type": "code",
   "execution_count": 53,
   "id": "8f9ede72",
   "metadata": {},
   "outputs": [
    {
     "data": {
      "text/plain": [
       "0.010544124011488375"
      ]
     },
     "execution_count": 53,
     "metadata": {},
     "output_type": "execute_result"
    }
   ],
   "source": [
    "536/programando.shape[0]"
   ]
  },
  {
   "cell_type": "markdown",
   "id": "0b372ea4",
   "metadata": {},
   "source": [
    "There are 536 values, approx. 1%, whose difference is negative.  \n",
    "Since this doesn't make sense, let's remove them from the the dataset."
   ]
  },
  {
   "cell_type": "code",
   "execution_count": 54,
   "id": "e4be0483",
   "metadata": {},
   "outputs": [],
   "source": [
    "programando = programando[programando['Difference'].astype('int32') >= 0]"
   ]
  },
  {
   "cell_type": "code",
   "execution_count": 55,
   "id": "852de77a",
   "metadata": {},
   "outputs": [
    {
     "data": {
      "text/html": [
       "<div>\n",
       "<style scoped>\n",
       "    .dataframe tbody tr th:only-of-type {\n",
       "        vertical-align: middle;\n",
       "    }\n",
       "\n",
       "    .dataframe tbody tr th {\n",
       "        vertical-align: top;\n",
       "    }\n",
       "\n",
       "    .dataframe thead th {\n",
       "        text-align: right;\n",
       "    }\n",
       "</style>\n",
       "<table border=\"1\" class=\"dataframe\">\n",
       "  <thead>\n",
       "    <tr style=\"text-align: right;\">\n",
       "      <th></th>\n",
       "      <th>YearsCode</th>\n",
       "      <th>YearsCodePro</th>\n",
       "      <th>Difference</th>\n",
       "    </tr>\n",
       "  </thead>\n",
       "  <tbody>\n",
       "    <tr>\n",
       "      <th>2</th>\n",
       "      <td>14</td>\n",
       "      <td>5</td>\n",
       "      <td>9</td>\n",
       "    </tr>\n",
       "    <tr>\n",
       "      <th>3</th>\n",
       "      <td>20</td>\n",
       "      <td>17</td>\n",
       "      <td>3</td>\n",
       "    </tr>\n",
       "    <tr>\n",
       "      <th>4</th>\n",
       "      <td>8</td>\n",
       "      <td>3</td>\n",
       "      <td>5</td>\n",
       "    </tr>\n",
       "    <tr>\n",
       "      <th>8</th>\n",
       "      <td>6</td>\n",
       "      <td>6</td>\n",
       "      <td>0</td>\n",
       "    </tr>\n",
       "    <tr>\n",
       "      <th>9</th>\n",
       "      <td>37</td>\n",
       "      <td>30</td>\n",
       "      <td>7</td>\n",
       "    </tr>\n",
       "    <tr>\n",
       "      <th>...</th>\n",
       "      <td>...</td>\n",
       "      <td>...</td>\n",
       "      <td>...</td>\n",
       "    </tr>\n",
       "    <tr>\n",
       "      <th>71990</th>\n",
       "      <td>9</td>\n",
       "      <td>7</td>\n",
       "      <td>2</td>\n",
       "    </tr>\n",
       "    <tr>\n",
       "      <th>71992</th>\n",
       "      <td>28</td>\n",
       "      <td>14</td>\n",
       "      <td>14</td>\n",
       "    </tr>\n",
       "    <tr>\n",
       "      <th>71993</th>\n",
       "      <td>26</td>\n",
       "      <td>22</td>\n",
       "      <td>4</td>\n",
       "    </tr>\n",
       "    <tr>\n",
       "      <th>71996</th>\n",
       "      <td>12</td>\n",
       "      <td>10</td>\n",
       "      <td>2</td>\n",
       "    </tr>\n",
       "    <tr>\n",
       "      <th>71999</th>\n",
       "      <td>8</td>\n",
       "      <td>3</td>\n",
       "      <td>5</td>\n",
       "    </tr>\n",
       "  </tbody>\n",
       "</table>\n",
       "<p>50298 rows × 3 columns</p>\n",
       "</div>"
      ],
      "text/plain": [
       "      YearsCode YearsCodePro Difference\n",
       "2            14            5          9\n",
       "3            20           17          3\n",
       "4             8            3          5\n",
       "8             6            6          0\n",
       "9            37           30          7\n",
       "...         ...          ...        ...\n",
       "71990         9            7          2\n",
       "71992        28           14         14\n",
       "71993        26           22          4\n",
       "71996        12           10          2\n",
       "71999         8            3          5\n",
       "\n",
       "[50298 rows x 3 columns]"
      ]
     },
     "execution_count": 55,
     "metadata": {},
     "output_type": "execute_result"
    }
   ],
   "source": [
    "programando[['YearsCode','YearsCodePro','Difference']]"
   ]
  },
  {
   "cell_type": "code",
   "execution_count": 56,
   "id": "9b64ba27",
   "metadata": {},
   "outputs": [
    {
     "data": {
      "image/png": "[encoded data removed]",
      "text/plain": [
       "<Figure size 720x432 with 1 Axes>"
      ]
     },
     "metadata": {
      "needs_background": "light"
     },
     "output_type": "display_data"
    }
   ],
   "source": [
    "plt.figure(figsize=(10,6));\n",
    "plt.xlim((0,24));\n",
    "(programando['Difference'].value_counts().sort_index()/programando.shape[0]).plot();\n",
    "plt.legend(bbox_to_anchor=(1.0, 1.0))\n",
    "plt.title('Years to become proffessional developer')\n",
    "plt.xlabel('YEARS')\n",
    "plt.ylabel('Proportion')\n",
    "plt.show()"
   ]
  },
  {
   "cell_type": "code",
   "execution_count": 57,
   "id": "3750db99",
   "metadata": {},
   "outputs": [
    {
     "data": {
      "text/plain": [
       "count    50298.000000\n",
       "mean         4.834208\n",
       "std          3.974266\n",
       "min          0.000000\n",
       "25%          2.000000\n",
       "50%          4.000000\n",
       "75%          6.000000\n",
       "max         49.000000\n",
       "Name: Difference, dtype: float64"
      ]
     },
     "execution_count": 57,
     "metadata": {},
     "output_type": "execute_result"
    }
   ],
   "source": [
    "programando['Difference'].astype('int').describe()"
   ]
  },
  {
   "cell_type": "markdown",
   "id": "dce86ca1",
   "metadata": {},
   "source": [
    "In summary, the results show that it takes 4.8 years on average to become a professional developer."
   ]
  }
 ],
 "metadata": {
  "kernelspec": {
   "display_name": "Python 3 (ipykernel)",
   "language": "python",
   "name": "python3"
  },
  "language_info": {
   "codemirror_mode": {
    "name": "ipython",
    "version": 3
   },
   "file_extension": ".py",
   "mimetype": "text/x-python",
   "name": "python",
   "nbconvert_exporter": "python",
   "pygments_lexer": "ipython3",
   "version": "3.9.12"
  }
 },
 "nbformat": 4,
 "nbformat_minor": 5
}
