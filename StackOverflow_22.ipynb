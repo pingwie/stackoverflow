{
 "cells": [
  {
   "cell_type": "code",
   "execution_count": 1,
   "id": "403828cd",
   "metadata": {},
   "outputs": [],
   "source": [
    "import pandas as pd\n",
    "import numpy as np\n",
    "import seaborn as sns\n",
    "import matplotlib.pyplot as plt\n",
    "from collections import defaultdict\n",
    "%matplotlib inline"
   ]
  },
  {
   "cell_type": "code",
   "execution_count": 2,
   "id": "43820359",
   "metadata": {},
   "outputs": [],
   "source": [
    "df = pd.read_csv('data/survey_2022.csv', low_memory= False)"
   ]
  },
  {
   "cell_type": "code",
   "execution_count": 3,
   "id": "bb01a081",
   "metadata": {},
   "outputs": [],
   "source": [
    "fd = pd.read_csv('data/schema_2022.csv')"
   ]
  },
  {
   "cell_type": "code",
   "execution_count": 4,
   "id": "25c01f26",
   "metadata": {},
   "outputs": [
    {
     "data": {
      "text/html": [
       "<div>\n",
       "<style scoped>\n",
       "    .dataframe tbody tr th:only-of-type {\n",
       "        vertical-align: middle;\n",
       "    }\n",
       "\n",
       "    .dataframe tbody tr th {\n",
       "        vertical-align: top;\n",
       "    }\n",
       "\n",
       "    .dataframe thead th {\n",
       "        text-align: right;\n",
       "    }\n",
       "</style>\n",
       "<table border=\"1\" class=\"dataframe\">\n",
       "  <thead>\n",
       "    <tr style=\"text-align: right;\">\n",
       "      <th></th>\n",
       "      <th>ResponseId</th>\n",
       "      <th>MainBranch</th>\n",
       "      <th>Employment</th>\n",
       "      <th>RemoteWork</th>\n",
       "      <th>CodingActivities</th>\n",
       "      <th>EdLevel</th>\n",
       "      <th>LearnCode</th>\n",
       "      <th>LearnCodeOnline</th>\n",
       "      <th>LearnCodeCoursesCert</th>\n",
       "      <th>YearsCode</th>\n",
       "      <th>...</th>\n",
       "      <th>TimeSearching</th>\n",
       "      <th>TimeAnswering</th>\n",
       "      <th>Onboarding</th>\n",
       "      <th>ProfessionalTech</th>\n",
       "      <th>TrueFalse_1</th>\n",
       "      <th>TrueFalse_2</th>\n",
       "      <th>TrueFalse_3</th>\n",
       "      <th>SurveyLength</th>\n",
       "      <th>SurveyEase</th>\n",
       "      <th>ConvertedCompYearly</th>\n",
       "    </tr>\n",
       "  </thead>\n",
       "  <tbody>\n",
       "    <tr>\n",
       "      <th>0</th>\n",
       "      <td>1</td>\n",
       "      <td>None of these</td>\n",
       "      <td>NaN</td>\n",
       "      <td>NaN</td>\n",
       "      <td>NaN</td>\n",
       "      <td>NaN</td>\n",
       "      <td>NaN</td>\n",
       "      <td>NaN</td>\n",
       "      <td>NaN</td>\n",
       "      <td>NaN</td>\n",
       "      <td>...</td>\n",
       "      <td>NaN</td>\n",
       "      <td>NaN</td>\n",
       "      <td>NaN</td>\n",
       "      <td>NaN</td>\n",
       "      <td>NaN</td>\n",
       "      <td>NaN</td>\n",
       "      <td>NaN</td>\n",
       "      <td>NaN</td>\n",
       "      <td>NaN</td>\n",
       "      <td>NaN</td>\n",
       "    </tr>\n",
       "    <tr>\n",
       "      <th>1</th>\n",
       "      <td>2</td>\n",
       "      <td>I am a developer by profession</td>\n",
       "      <td>Employed, full-time</td>\n",
       "      <td>Fully remote</td>\n",
       "      <td>Hobby;Contribute to open-source projects</td>\n",
       "      <td>NaN</td>\n",
       "      <td>NaN</td>\n",
       "      <td>NaN</td>\n",
       "      <td>NaN</td>\n",
       "      <td>NaN</td>\n",
       "      <td>...</td>\n",
       "      <td>NaN</td>\n",
       "      <td>NaN</td>\n",
       "      <td>NaN</td>\n",
       "      <td>NaN</td>\n",
       "      <td>NaN</td>\n",
       "      <td>NaN</td>\n",
       "      <td>NaN</td>\n",
       "      <td>Too long</td>\n",
       "      <td>Difficult</td>\n",
       "      <td>NaN</td>\n",
       "    </tr>\n",
       "    <tr>\n",
       "      <th>2</th>\n",
       "      <td>3</td>\n",
       "      <td>I am not primarily a developer, but I write co...</td>\n",
       "      <td>Employed, full-time</td>\n",
       "      <td>Hybrid (some remote, some in-person)</td>\n",
       "      <td>Hobby</td>\n",
       "      <td>Master’s degree (M.A., M.S., M.Eng., MBA, etc.)</td>\n",
       "      <td>Books / Physical media;Friend or family member...</td>\n",
       "      <td>Technical documentation;Blogs;Programming Game...</td>\n",
       "      <td>NaN</td>\n",
       "      <td>14</td>\n",
       "      <td>...</td>\n",
       "      <td>NaN</td>\n",
       "      <td>NaN</td>\n",
       "      <td>NaN</td>\n",
       "      <td>NaN</td>\n",
       "      <td>NaN</td>\n",
       "      <td>NaN</td>\n",
       "      <td>NaN</td>\n",
       "      <td>Appropriate in length</td>\n",
       "      <td>Neither easy nor difficult</td>\n",
       "      <td>40205.0</td>\n",
       "    </tr>\n",
       "    <tr>\n",
       "      <th>3</th>\n",
       "      <td>4</td>\n",
       "      <td>I am a developer by profession</td>\n",
       "      <td>Employed, full-time</td>\n",
       "      <td>Fully remote</td>\n",
       "      <td>I don’t code outside of work</td>\n",
       "      <td>Bachelor’s degree (B.A., B.S., B.Eng., etc.)</td>\n",
       "      <td>Books / Physical media;School (i.e., Universit...</td>\n",
       "      <td>NaN</td>\n",
       "      <td>NaN</td>\n",
       "      <td>20</td>\n",
       "      <td>...</td>\n",
       "      <td>NaN</td>\n",
       "      <td>NaN</td>\n",
       "      <td>NaN</td>\n",
       "      <td>NaN</td>\n",
       "      <td>NaN</td>\n",
       "      <td>NaN</td>\n",
       "      <td>NaN</td>\n",
       "      <td>Appropriate in length</td>\n",
       "      <td>Easy</td>\n",
       "      <td>215232.0</td>\n",
       "    </tr>\n",
       "    <tr>\n",
       "      <th>4</th>\n",
       "      <td>5</td>\n",
       "      <td>I am a developer by profession</td>\n",
       "      <td>Employed, full-time</td>\n",
       "      <td>Hybrid (some remote, some in-person)</td>\n",
       "      <td>Hobby</td>\n",
       "      <td>Bachelor’s degree (B.A., B.S., B.Eng., etc.)</td>\n",
       "      <td>Other online resources (e.g., videos, blogs, f...</td>\n",
       "      <td>Technical documentation;Blogs;Stack Overflow;O...</td>\n",
       "      <td>NaN</td>\n",
       "      <td>8</td>\n",
       "      <td>...</td>\n",
       "      <td>NaN</td>\n",
       "      <td>NaN</td>\n",
       "      <td>NaN</td>\n",
       "      <td>NaN</td>\n",
       "      <td>NaN</td>\n",
       "      <td>NaN</td>\n",
       "      <td>NaN</td>\n",
       "      <td>Too long</td>\n",
       "      <td>Easy</td>\n",
       "      <td>NaN</td>\n",
       "    </tr>\n",
       "  </tbody>\n",
       "</table>\n",
       "<p>5 rows × 79 columns</p>\n",
       "</div>"
      ],
      "text/plain": [
       "   ResponseId                                         MainBranch  \\\n",
       "0           1                                      None of these   \n",
       "1           2                     I am a developer by profession   \n",
       "2           3  I am not primarily a developer, but I write co...   \n",
       "3           4                     I am a developer by profession   \n",
       "4           5                     I am a developer by profession   \n",
       "\n",
       "            Employment                            RemoteWork  \\\n",
       "0                  NaN                                   NaN   \n",
       "1  Employed, full-time                          Fully remote   \n",
       "2  Employed, full-time  Hybrid (some remote, some in-person)   \n",
       "3  Employed, full-time                          Fully remote   \n",
       "4  Employed, full-time  Hybrid (some remote, some in-person)   \n",
       "\n",
       "                           CodingActivities  \\\n",
       "0                                       NaN   \n",
       "1  Hobby;Contribute to open-source projects   \n",
       "2                                     Hobby   \n",
       "3              I don’t code outside of work   \n",
       "4                                     Hobby   \n",
       "\n",
       "                                           EdLevel  \\\n",
       "0                                              NaN   \n",
       "1                                              NaN   \n",
       "2  Master’s degree (M.A., M.S., M.Eng., MBA, etc.)   \n",
       "3     Bachelor’s degree (B.A., B.S., B.Eng., etc.)   \n",
       "4     Bachelor’s degree (B.A., B.S., B.Eng., etc.)   \n",
       "\n",
       "                                           LearnCode  \\\n",
       "0                                                NaN   \n",
       "1                                                NaN   \n",
       "2  Books / Physical media;Friend or family member...   \n",
       "3  Books / Physical media;School (i.e., Universit...   \n",
       "4  Other online resources (e.g., videos, blogs, f...   \n",
       "\n",
       "                                     LearnCodeOnline LearnCodeCoursesCert  \\\n",
       "0                                                NaN                  NaN   \n",
       "1                                                NaN                  NaN   \n",
       "2  Technical documentation;Blogs;Programming Game...                  NaN   \n",
       "3                                                NaN                  NaN   \n",
       "4  Technical documentation;Blogs;Stack Overflow;O...                  NaN   \n",
       "\n",
       "  YearsCode  ... TimeSearching TimeAnswering Onboarding ProfessionalTech  \\\n",
       "0       NaN  ...           NaN           NaN        NaN              NaN   \n",
       "1       NaN  ...           NaN           NaN        NaN              NaN   \n",
       "2        14  ...           NaN           NaN        NaN              NaN   \n",
       "3        20  ...           NaN           NaN        NaN              NaN   \n",
       "4         8  ...           NaN           NaN        NaN              NaN   \n",
       "\n",
       "  TrueFalse_1 TrueFalse_2 TrueFalse_3           SurveyLength  \\\n",
       "0         NaN         NaN         NaN                    NaN   \n",
       "1         NaN         NaN         NaN               Too long   \n",
       "2         NaN         NaN         NaN  Appropriate in length   \n",
       "3         NaN         NaN         NaN  Appropriate in length   \n",
       "4         NaN         NaN         NaN               Too long   \n",
       "\n",
       "                   SurveyEase ConvertedCompYearly  \n",
       "0                         NaN                 NaN  \n",
       "1                   Difficult                 NaN  \n",
       "2  Neither easy nor difficult             40205.0  \n",
       "3                        Easy            215232.0  \n",
       "4                        Easy                 NaN  \n",
       "\n",
       "[5 rows x 79 columns]"
      ]
     },
     "execution_count": 4,
     "metadata": {},
     "output_type": "execute_result"
    }
   ],
   "source": [
    "df.head()"
   ]
  },
  {
   "cell_type": "code",
   "execution_count": 5,
   "id": "39f66f60",
   "metadata": {},
   "outputs": [
    {
     "data": {
      "text/html": [
       "<div>\n",
       "<style scoped>\n",
       "    .dataframe tbody tr th:only-of-type {\n",
       "        vertical-align: middle;\n",
       "    }\n",
       "\n",
       "    .dataframe tbody tr th {\n",
       "        vertical-align: top;\n",
       "    }\n",
       "\n",
       "    .dataframe thead th {\n",
       "        text-align: right;\n",
       "    }\n",
       "</style>\n",
       "<table border=\"1\" class=\"dataframe\">\n",
       "  <thead>\n",
       "    <tr style=\"text-align: right;\">\n",
       "      <th></th>\n",
       "      <th>qid</th>\n",
       "      <th>qname</th>\n",
       "      <th>question</th>\n",
       "      <th>force_resp</th>\n",
       "      <th>type</th>\n",
       "      <th>selector</th>\n",
       "    </tr>\n",
       "  </thead>\n",
       "  <tbody>\n",
       "    <tr>\n",
       "      <th>0</th>\n",
       "      <td>QID16</td>\n",
       "      <td>S0</td>\n",
       "      <td>&lt;div&gt;&lt;span style=\"font-size:19px;\"&gt;&lt;strong&gt;Hel...</td>\n",
       "      <td>False</td>\n",
       "      <td>DB</td>\n",
       "      <td>TB</td>\n",
       "    </tr>\n",
       "    <tr>\n",
       "      <th>1</th>\n",
       "      <td>QID12</td>\n",
       "      <td>MetaInfo</td>\n",
       "      <td>Browser Meta Info</td>\n",
       "      <td>False</td>\n",
       "      <td>Meta</td>\n",
       "      <td>Browser</td>\n",
       "    </tr>\n",
       "    <tr>\n",
       "      <th>2</th>\n",
       "      <td>QID1</td>\n",
       "      <td>S1</td>\n",
       "      <td>&lt;span style=\"font-size:22px; font-family: aria...</td>\n",
       "      <td>False</td>\n",
       "      <td>DB</td>\n",
       "      <td>TB</td>\n",
       "    </tr>\n",
       "    <tr>\n",
       "      <th>3</th>\n",
       "      <td>QID2</td>\n",
       "      <td>MainBranch</td>\n",
       "      <td>Which of the following options best describes ...</td>\n",
       "      <td>True</td>\n",
       "      <td>MC</td>\n",
       "      <td>SAVR</td>\n",
       "    </tr>\n",
       "    <tr>\n",
       "      <th>4</th>\n",
       "      <td>QID296</td>\n",
       "      <td>Employment</td>\n",
       "      <td>Which of the following best describes your cur...</td>\n",
       "      <td>False</td>\n",
       "      <td>MC</td>\n",
       "      <td>MAVR</td>\n",
       "    </tr>\n",
       "    <tr>\n",
       "      <th>5</th>\n",
       "      <td>QID308</td>\n",
       "      <td>RemoteWork</td>\n",
       "      <td>Which best describes your current work situation?</td>\n",
       "      <td>False</td>\n",
       "      <td>MC</td>\n",
       "      <td>SAVR</td>\n",
       "    </tr>\n",
       "    <tr>\n",
       "      <th>6</th>\n",
       "      <td>QID297</td>\n",
       "      <td>CodingActivities</td>\n",
       "      <td>Which of the following best describes the code...</td>\n",
       "      <td>False</td>\n",
       "      <td>MC</td>\n",
       "      <td>MAVR</td>\n",
       "    </tr>\n",
       "  </tbody>\n",
       "</table>\n",
       "</div>"
      ],
      "text/plain": [
       "      qid             qname  \\\n",
       "0   QID16                S0   \n",
       "1   QID12          MetaInfo   \n",
       "2    QID1                S1   \n",
       "3    QID2        MainBranch   \n",
       "4  QID296        Employment   \n",
       "5  QID308        RemoteWork   \n",
       "6  QID297  CodingActivities   \n",
       "\n",
       "                                            question force_resp  type selector  \n",
       "0  <div><span style=\"font-size:19px;\"><strong>Hel...      False    DB       TB  \n",
       "1                                  Browser Meta Info      False  Meta  Browser  \n",
       "2  <span style=\"font-size:22px; font-family: aria...      False    DB       TB  \n",
       "3  Which of the following options best describes ...       True    MC     SAVR  \n",
       "4  Which of the following best describes your cur...      False    MC     MAVR  \n",
       "5  Which best describes your current work situation?      False    MC     SAVR  \n",
       "6  Which of the following best describes the code...      False    MC     MAVR  "
      ]
     },
     "execution_count": 5,
     "metadata": {},
     "output_type": "execute_result"
    }
   ],
   "source": [
    "fd.head(7)"
   ]
  },
  {
   "cell_type": "code",
   "execution_count": 6,
   "id": "91d9f618",
   "metadata": {},
   "outputs": [
    {
     "data": {
      "text/plain": [
       "Index(['ResponseId', 'MainBranch', 'Employment', 'RemoteWork',\n",
       "       'CodingActivities', 'EdLevel', 'LearnCode', 'LearnCodeOnline',\n",
       "       'LearnCodeCoursesCert', 'YearsCode', 'YearsCodePro', 'DevType',\n",
       "       'OrgSize', 'PurchaseInfluence', 'BuyNewTool', 'Country', 'Currency',\n",
       "       'CompTotal', 'CompFreq', 'LanguageHaveWorkedWith',\n",
       "       'LanguageWantToWorkWith', 'DatabaseHaveWorkedWith',\n",
       "       'DatabaseWantToWorkWith', 'PlatformHaveWorkedWith',\n",
       "       'PlatformWantToWorkWith', 'WebframeHaveWorkedWith',\n",
       "       'WebframeWantToWorkWith', 'MiscTechHaveWorkedWith',\n",
       "       'MiscTechWantToWorkWith', 'ToolsTechHaveWorkedWith',\n",
       "       'ToolsTechWantToWorkWith', 'NEWCollabToolsHaveWorkedWith',\n",
       "       'NEWCollabToolsWantToWorkWith', 'OpSysProfessional use',\n",
       "       'OpSysPersonal use', 'VersionControlSystem', 'VCInteraction',\n",
       "       'VCHostingPersonal use', 'VCHostingProfessional use',\n",
       "       'OfficeStackAsyncHaveWorkedWith', 'OfficeStackAsyncWantToWorkWith',\n",
       "       'OfficeStackSyncHaveWorkedWith', 'OfficeStackSyncWantToWorkWith',\n",
       "       'Blockchain', 'NEWSOSites', 'SOVisitFreq', 'SOAccount', 'SOPartFreq',\n",
       "       'SOComm', 'Age', 'Gender', 'Trans', 'Sexuality', 'Ethnicity',\n",
       "       'Accessibility', 'MentalHealth', 'TBranch', 'ICorPM', 'WorkExp',\n",
       "       'Knowledge_1', 'Knowledge_2', 'Knowledge_3', 'Knowledge_4',\n",
       "       'Knowledge_5', 'Knowledge_6', 'Knowledge_7', 'Frequency_1',\n",
       "       'Frequency_2', 'Frequency_3', 'TimeSearching', 'TimeAnswering',\n",
       "       'Onboarding', 'ProfessionalTech', 'TrueFalse_1', 'TrueFalse_2',\n",
       "       'TrueFalse_3', 'SurveyLength', 'SurveyEase', 'ConvertedCompYearly'],\n",
       "      dtype='object')"
      ]
     },
     "execution_count": 6,
     "metadata": {},
     "output_type": "execute_result"
    }
   ],
   "source": [
    "df.columns"
   ]
  },
  {
   "cell_type": "code",
   "execution_count": 7,
   "id": "a7df07b2",
   "metadata": {},
   "outputs": [
    {
     "data": {
      "text/html": [
       "<div>\n",
       "<style scoped>\n",
       "    .dataframe tbody tr th:only-of-type {\n",
       "        vertical-align: middle;\n",
       "    }\n",
       "\n",
       "    .dataframe tbody tr th {\n",
       "        vertical-align: top;\n",
       "    }\n",
       "\n",
       "    .dataframe thead th {\n",
       "        text-align: right;\n",
       "    }\n",
       "</style>\n",
       "<table border=\"1\" class=\"dataframe\">\n",
       "  <thead>\n",
       "    <tr style=\"text-align: right;\">\n",
       "      <th></th>\n",
       "      <th>qid</th>\n",
       "      <th>qname</th>\n",
       "      <th>question</th>\n",
       "      <th>force_resp</th>\n",
       "      <th>type</th>\n",
       "      <th>selector</th>\n",
       "    </tr>\n",
       "  </thead>\n",
       "  <tbody>\n",
       "    <tr>\n",
       "      <th>0</th>\n",
       "      <td>QID16</td>\n",
       "      <td>S0</td>\n",
       "      <td>&lt;div&gt;&lt;span style=\"font-size:19px;\"&gt;&lt;strong&gt;Hel...</td>\n",
       "      <td>False</td>\n",
       "      <td>DB</td>\n",
       "      <td>TB</td>\n",
       "    </tr>\n",
       "    <tr>\n",
       "      <th>1</th>\n",
       "      <td>QID12</td>\n",
       "      <td>MetaInfo</td>\n",
       "      <td>Browser Meta Info</td>\n",
       "      <td>False</td>\n",
       "      <td>Meta</td>\n",
       "      <td>Browser</td>\n",
       "    </tr>\n",
       "    <tr>\n",
       "      <th>2</th>\n",
       "      <td>QID1</td>\n",
       "      <td>S1</td>\n",
       "      <td>&lt;span style=\"font-size:22px; font-family: aria...</td>\n",
       "      <td>False</td>\n",
       "      <td>DB</td>\n",
       "      <td>TB</td>\n",
       "    </tr>\n",
       "    <tr>\n",
       "      <th>3</th>\n",
       "      <td>QID2</td>\n",
       "      <td>MainBranch</td>\n",
       "      <td>Which of the following options best describes ...</td>\n",
       "      <td>True</td>\n",
       "      <td>MC</td>\n",
       "      <td>SAVR</td>\n",
       "    </tr>\n",
       "    <tr>\n",
       "      <th>4</th>\n",
       "      <td>QID296</td>\n",
       "      <td>Employment</td>\n",
       "      <td>Which of the following best describes your cur...</td>\n",
       "      <td>False</td>\n",
       "      <td>MC</td>\n",
       "      <td>MAVR</td>\n",
       "    </tr>\n",
       "  </tbody>\n",
       "</table>\n",
       "</div>"
      ],
      "text/plain": [
       "      qid       qname                                           question  \\\n",
       "0   QID16          S0  <div><span style=\"font-size:19px;\"><strong>Hel...   \n",
       "1   QID12    MetaInfo                                  Browser Meta Info   \n",
       "2    QID1          S1  <span style=\"font-size:22px; font-family: aria...   \n",
       "3    QID2  MainBranch  Which of the following options best describes ...   \n",
       "4  QID296  Employment  Which of the following best describes your cur...   \n",
       "\n",
       "  force_resp  type selector  \n",
       "0      False    DB       TB  \n",
       "1      False  Meta  Browser  \n",
       "2      False    DB       TB  \n",
       "3       True    MC     SAVR  \n",
       "4      False    MC     MAVR  "
      ]
     },
     "execution_count": 7,
     "metadata": {},
     "output_type": "execute_result"
    }
   ],
   "source": [
    "fd.head()"
   ]
  },
  {
   "cell_type": "code",
   "execution_count": 4,
   "id": "432c2d3c",
   "metadata": {},
   "outputs": [],
   "source": [
    "def informacion(preg):\n",
    "    return fd.query('qname == \"{}\"'.format(preg))['question'].iloc[0]\n"
   ]
  },
  {
   "cell_type": "markdown",
   "id": "f0a184fc",
   "metadata": {},
   "source": [
    "# Salary\n",
    "We are going to combine the 'CompTotal' and 'CompFreq' columns to get a total salary"
   ]
  },
  {
   "cell_type": "code",
   "execution_count": 8,
   "id": "97e9a42f",
   "metadata": {},
   "outputs": [],
   "source": [
    "dfsalary = df.copy()"
   ]
  },
  {
   "cell_type": "code",
   "execution_count": 9,
   "id": "9c4fe9e0",
   "metadata": {},
   "outputs": [
    {
     "data": {
      "text/plain": [
       "0.47559644046514166"
      ]
     },
     "execution_count": 9,
     "metadata": {},
     "output_type": "execute_result"
    }
   ],
   "source": [
    "dfsalary['CompTotal'].isna().sum()/dfsalary.shape[0]"
   ]
  },
  {
   "cell_type": "code",
   "execution_count": 10,
   "id": "2088fe7b",
   "metadata": {},
   "outputs": [
    {
     "data": {
      "text/plain": [
       "0.39366435551673307"
      ]
     },
     "execution_count": 10,
     "metadata": {},
     "output_type": "execute_result"
    }
   ],
   "source": [
    "dfsalary['CompFreq'].isna().sum()/dfsalary.shape[0]"
   ]
  },
  {
   "cell_type": "markdown",
   "id": "02a05407",
   "metadata": {},
   "source": [
    "We observe that more than 47 % of the data is missing. This is possibly caused because the employees didn't want to answer this question.\n",
    "We are going to drop this registers."
   ]
  },
  {
   "cell_type": "code",
   "execution_count": 11,
   "id": "11da72f9",
   "metadata": {},
   "outputs": [],
   "source": [
    "dfsalary = dfsalary.dropna(subset=['CompTotal'], axis=0)"
   ]
  },
  {
   "cell_type": "code",
   "execution_count": 12,
   "id": "343df203",
   "metadata": {},
   "outputs": [
    {
     "data": {
      "text/plain": [
       "0.001952006662849409"
      ]
     },
     "execution_count": 12,
     "metadata": {},
     "output_type": "execute_result"
    }
   ],
   "source": [
    "dfsalary['CompFreq'].isna().sum()/dfsalary.shape[0]"
   ]
  },
  {
   "cell_type": "markdown",
   "id": "f2665a99",
   "metadata": {},
   "source": [
    "A small porcentage of surveyed filled the 'CompTotal', but not the 'CompFreq'. Since it's a very small porcentage, we'll drop this data."
   ]
  },
  {
   "cell_type": "code",
   "execution_count": 13,
   "id": "b7601a8c",
   "metadata": {},
   "outputs": [],
   "source": [
    "dfsalary = dfsalary.dropna(subset=['CompFreq'], axis=0)"
   ]
  },
  {
   "cell_type": "code",
   "execution_count": 14,
   "id": "768748f6",
   "metadata": {},
   "outputs": [
    {
     "data": {
      "text/plain": [
       "count    3.834700e+04\n",
       "mean     2.347015e+52\n",
       "std      4.595966e+54\n",
       "min      0.000000e+00\n",
       "25%      3.000000e+04\n",
       "50%      7.800000e+04\n",
       "75%      1.540000e+05\n",
       "max      9.000000e+56\n",
       "Name: CompTotal, dtype: float64"
      ]
     },
     "execution_count": 14,
     "metadata": {},
     "output_type": "execute_result"
    }
   ],
   "source": [
    "dfsalary['CompTotal'].describe()"
   ]
  },
  {
   "cell_type": "markdown",
   "id": "0ff037ad",
   "metadata": {},
   "source": [
    "Ve can see there are extreme values that have no sense: $9 \\cdot 10^{56}$ \\\\$"
   ]
  },
  {
   "cell_type": "code",
   "execution_count": 15,
   "id": "aa6c5d36",
   "metadata": {},
   "outputs": [
    {
     "data": {
      "text/plain": [
       "35786    9.000000e+56\n",
       "3068     1.000000e+52\n",
       "70597    1.000000e+22\n",
       "17567    1.000000e+15\n",
       "19244    5.000000e+12\n",
       "             ...     \n",
       "45535    0.000000e+00\n",
       "64715    0.000000e+00\n",
       "3891     0.000000e+00\n",
       "22777    0.000000e+00\n",
       "56094    0.000000e+00\n",
       "Name: CompTotal, Length: 38347, dtype: float64"
      ]
     },
     "execution_count": 15,
     "metadata": {},
     "output_type": "execute_result"
    }
   ],
   "source": [
    "dfsalary['CompTotal'].sort_values(ascending=False)"
   ]
  },
  {
   "cell_type": "markdown",
   "id": "7d669739",
   "metadata": {},
   "source": [
    "Some employees report salaries too high to be true, and some of them report 0 \\\\$.\n",
    "We are going to compute a new column for the total salary, by multiplying 'CompTotal' by 'CompFreq'.\n",
    "In order to do so, we'll convert the frequency column into a dictionary with numerical values:\n",
    "'Yearly':1, 'Monthly':12, 'Weekly':52\n",
    "Then, we'll clean the extremes values."
   ]
  },
  {
   "cell_type": "code",
   "execution_count": 16,
   "id": "50e41b00",
   "metadata": {},
   "outputs": [
    {
     "data": {
      "text/plain": [
       "array(['Yearly', 'Monthly', 'Weekly'], dtype=object)"
      ]
     },
     "execution_count": 16,
     "metadata": {},
     "output_type": "execute_result"
    }
   ],
   "source": [
    "dfsalary['CompFreq'].unique()"
   ]
  },
  {
   "cell_type": "code",
   "execution_count": 17,
   "id": "1cad8c13",
   "metadata": {},
   "outputs": [],
   "source": [
    "conversion = {'Yearly':1, 'Monthly':12, 'Weekly':52, np.nan:0}"
   ]
  },
  {
   "cell_type": "code",
   "execution_count": 18,
   "id": "90c0179d",
   "metadata": {},
   "outputs": [],
   "source": [
    "dfsalary['CompFreq'] = dfsalary['CompFreq'].map(conversion)"
   ]
  },
  {
   "cell_type": "code",
   "execution_count": 19,
   "id": "3cb89744",
   "metadata": {},
   "outputs": [],
   "source": [
    "dfsalary['Salary'] = df['CompTotal'] * dfsalary['CompFreq']"
   ]
  },
  {
   "cell_type": "code",
   "execution_count": 20,
   "id": "37fe9ea1",
   "metadata": {},
   "outputs": [
    {
     "data": {
      "text/html": [
       "<div>\n",
       "<style scoped>\n",
       "    .dataframe tbody tr th:only-of-type {\n",
       "        vertical-align: middle;\n",
       "    }\n",
       "\n",
       "    .dataframe tbody tr th {\n",
       "        vertical-align: top;\n",
       "    }\n",
       "\n",
       "    .dataframe thead th {\n",
       "        text-align: right;\n",
       "    }\n",
       "</style>\n",
       "<table border=\"1\" class=\"dataframe\">\n",
       "  <thead>\n",
       "    <tr style=\"text-align: right;\">\n",
       "      <th></th>\n",
       "      <th>CompTotal</th>\n",
       "      <th>CompFreq</th>\n",
       "      <th>Salary</th>\n",
       "    </tr>\n",
       "  </thead>\n",
       "  <tbody>\n",
       "    <tr>\n",
       "      <th>2</th>\n",
       "      <td>32000.0</td>\n",
       "      <td>1</td>\n",
       "      <td>32000.0</td>\n",
       "    </tr>\n",
       "    <tr>\n",
       "      <th>3</th>\n",
       "      <td>60000.0</td>\n",
       "      <td>12</td>\n",
       "      <td>720000.0</td>\n",
       "    </tr>\n",
       "    <tr>\n",
       "      <th>8</th>\n",
       "      <td>46000.0</td>\n",
       "      <td>1</td>\n",
       "      <td>46000.0</td>\n",
       "    </tr>\n",
       "    <tr>\n",
       "      <th>10</th>\n",
       "      <td>48000.0</td>\n",
       "      <td>1</td>\n",
       "      <td>48000.0</td>\n",
       "    </tr>\n",
       "    <tr>\n",
       "      <th>11</th>\n",
       "      <td>194400.0</td>\n",
       "      <td>1</td>\n",
       "      <td>194400.0</td>\n",
       "    </tr>\n",
       "    <tr>\n",
       "      <th>...</th>\n",
       "      <td>...</td>\n",
       "      <td>...</td>\n",
       "      <td>...</td>\n",
       "    </tr>\n",
       "    <tr>\n",
       "      <th>73259</th>\n",
       "      <td>8000.0</td>\n",
       "      <td>12</td>\n",
       "      <td>96000.0</td>\n",
       "    </tr>\n",
       "    <tr>\n",
       "      <th>73261</th>\n",
       "      <td>36000.0</td>\n",
       "      <td>1</td>\n",
       "      <td>36000.0</td>\n",
       "    </tr>\n",
       "    <tr>\n",
       "      <th>73263</th>\n",
       "      <td>60000.0</td>\n",
       "      <td>1</td>\n",
       "      <td>60000.0</td>\n",
       "    </tr>\n",
       "    <tr>\n",
       "      <th>73264</th>\n",
       "      <td>107000.0</td>\n",
       "      <td>1</td>\n",
       "      <td>107000.0</td>\n",
       "    </tr>\n",
       "    <tr>\n",
       "      <th>73266</th>\n",
       "      <td>58500.0</td>\n",
       "      <td>1</td>\n",
       "      <td>58500.0</td>\n",
       "    </tr>\n",
       "  </tbody>\n",
       "</table>\n",
       "<p>38347 rows × 3 columns</p>\n",
       "</div>"
      ],
      "text/plain": [
       "       CompTotal  CompFreq    Salary\n",
       "2        32000.0         1   32000.0\n",
       "3        60000.0        12  720000.0\n",
       "8        46000.0         1   46000.0\n",
       "10       48000.0         1   48000.0\n",
       "11      194400.0         1  194400.0\n",
       "...          ...       ...       ...\n",
       "73259     8000.0        12   96000.0\n",
       "73261    36000.0         1   36000.0\n",
       "73263    60000.0         1   60000.0\n",
       "73264   107000.0         1  107000.0\n",
       "73266    58500.0         1   58500.0\n",
       "\n",
       "[38347 rows x 3 columns]"
      ]
     },
     "execution_count": 20,
     "metadata": {},
     "output_type": "execute_result"
    }
   ],
   "source": [
    "dfsalary[['CompTotal','CompFreq','Salary']]"
   ]
  },
  {
   "cell_type": "code",
   "execution_count": 21,
   "id": "76a15cf9",
   "metadata": {},
   "outputs": [
    {
     "data": {
      "text/plain": [
       "78"
      ]
     },
     "execution_count": 21,
     "metadata": {},
     "output_type": "execute_result"
    }
   ],
   "source": [
    "(dfsalary['Salary']==0).sum()"
   ]
  },
  {
   "cell_type": "markdown",
   "id": "feb40646",
   "metadata": {},
   "source": [
    "Hay 78 encuestados que reportan un sueldo de 0 $. Eliminemos estos registros."
   ]
  },
  {
   "cell_type": "code",
   "execution_count": 22,
   "id": "ee8e057b",
   "metadata": {},
   "outputs": [],
   "source": [
    "dfsalary = dfsalary[dfsalary['Salary']>0]"
   ]
  },
  {
   "cell_type": "code",
   "execution_count": 23,
   "id": "2b52cb90",
   "metadata": {},
   "outputs": [
    {
     "data": {
      "text/html": [
       "<div>\n",
       "<style scoped>\n",
       "    .dataframe tbody tr th:only-of-type {\n",
       "        vertical-align: middle;\n",
       "    }\n",
       "\n",
       "    .dataframe tbody tr th {\n",
       "        vertical-align: top;\n",
       "    }\n",
       "\n",
       "    .dataframe thead th {\n",
       "        text-align: right;\n",
       "    }\n",
       "</style>\n",
       "<table border=\"1\" class=\"dataframe\">\n",
       "  <thead>\n",
       "    <tr style=\"text-align: right;\">\n",
       "      <th></th>\n",
       "      <th>CompTotal</th>\n",
       "      <th>CompFreq</th>\n",
       "      <th>Salary</th>\n",
       "    </tr>\n",
       "  </thead>\n",
       "  <tbody>\n",
       "    <tr>\n",
       "      <th>count</th>\n",
       "      <td>3.826900e+04</td>\n",
       "      <td>38269.000000</td>\n",
       "      <td>3.826900e+04</td>\n",
       "    </tr>\n",
       "    <tr>\n",
       "      <th>mean</th>\n",
       "      <td>2.351799e+52</td>\n",
       "      <td>6.344456</td>\n",
       "      <td>1.222936e+54</td>\n",
       "    </tr>\n",
       "    <tr>\n",
       "      <th>std</th>\n",
       "      <td>4.600647e+54</td>\n",
       "      <td>8.577074</td>\n",
       "      <td>2.392337e+56</td>\n",
       "    </tr>\n",
       "    <tr>\n",
       "      <th>min</th>\n",
       "      <td>1.000000e+00</td>\n",
       "      <td>1.000000</td>\n",
       "      <td>1.000000e+00</td>\n",
       "    </tr>\n",
       "    <tr>\n",
       "      <th>25%</th>\n",
       "      <td>3.000000e+04</td>\n",
       "      <td>1.000000</td>\n",
       "      <td>6.000000e+04</td>\n",
       "    </tr>\n",
       "    <tr>\n",
       "      <th>50%</th>\n",
       "      <td>7.800000e+04</td>\n",
       "      <td>1.000000</td>\n",
       "      <td>1.220000e+05</td>\n",
       "    </tr>\n",
       "    <tr>\n",
       "      <th>75%</th>\n",
       "      <td>1.550000e+05</td>\n",
       "      <td>12.000000</td>\n",
       "      <td>3.720000e+05</td>\n",
       "    </tr>\n",
       "    <tr>\n",
       "      <th>max</th>\n",
       "      <td>9.000000e+56</td>\n",
       "      <td>52.000000</td>\n",
       "      <td>4.680000e+58</td>\n",
       "    </tr>\n",
       "  </tbody>\n",
       "</table>\n",
       "</div>"
      ],
      "text/plain": [
       "          CompTotal      CompFreq        Salary\n",
       "count  3.826900e+04  38269.000000  3.826900e+04\n",
       "mean   2.351799e+52      6.344456  1.222936e+54\n",
       "std    4.600647e+54      8.577074  2.392337e+56\n",
       "min    1.000000e+00      1.000000  1.000000e+00\n",
       "25%    3.000000e+04      1.000000  6.000000e+04\n",
       "50%    7.800000e+04      1.000000  1.220000e+05\n",
       "75%    1.550000e+05     12.000000  3.720000e+05\n",
       "max    9.000000e+56     52.000000  4.680000e+58"
      ]
     },
     "execution_count": 23,
     "metadata": {},
     "output_type": "execute_result"
    }
   ],
   "source": [
    "dfsalary[['CompTotal','CompFreq','Salary']].describe()"
   ]
  },
  {
   "cell_type": "markdown",
   "id": "f7badbd6",
   "metadata": {},
   "source": [
    "Ahora vamos a limpiar los valores extremos superiores. El 75% de los datos son menores que 372.000 \\\\$\n",
    "Así que centraremos nuestro estudio en el rango [0,600.000] $"
   ]
  },
  {
   "cell_type": "code",
   "execution_count": 24,
   "id": "1d12f65b",
   "metadata": {},
   "outputs": [],
   "source": [
    "dfsalary = dfsalary[dfsalary['Salary'] < 600000]"
   ]
  },
  {
   "cell_type": "code",
   "execution_count": 25,
   "id": "b62c5201",
   "metadata": {},
   "outputs": [
    {
     "data": {
      "image/png": "[encoded data removed]",
      "text/plain": [
       "<Figure size 576x432 with 1 Axes>"
      ]
     },
     "metadata": {
      "needs_background": "light"
     },
     "output_type": "display_data"
    }
   ],
   "source": [
    "# plt.xlim((0,900000))\n",
    "plt.figure(figsize=(8,6));\n",
    "sns.boxplot(x = dfsalary['Salary'],fliersize=2);"
   ]
  },
  {
   "cell_type": "code",
   "execution_count": 26,
   "id": "9b7cef0d",
   "metadata": {
    "scrolled": true
   },
   "outputs": [
    {
     "data": {
      "image/png": "[encoded data removed]",
      "text/plain": [
       "<Figure size 432x288 with 1 Axes>"
      ]
     },
     "metadata": {
      "needs_background": "light"
     },
     "output_type": "display_data"
    }
   ],
   "source": [
    "dfsalary['Salary'].hist();"
   ]
  },
  {
   "cell_type": "code",
   "execution_count": 27,
   "id": "fe13a8e0",
   "metadata": {},
   "outputs": [
    {
     "data": {
      "text/plain": [
       "count     30542.000000\n",
       "mean     130116.958811\n",
       "std      115096.186261\n",
       "min           1.000000\n",
       "25%       53000.000000\n",
       "50%       95000.000000\n",
       "75%      160000.000000\n",
       "max      598000.000000\n",
       "Name: Salary, dtype: float64"
      ]
     },
     "execution_count": 27,
     "metadata": {},
     "output_type": "execute_result"
    }
   ],
   "source": [
    "dfsalary['Salary'].describe()"
   ]
  },
  {
   "cell_type": "code",
   "execution_count": 23,
   "id": "2d2a5c24",
   "metadata": {},
   "outputs": [
    {
     "data": {
      "text/plain": [
       "14"
      ]
     },
     "execution_count": 23,
     "metadata": {},
     "output_type": "execute_result"
    }
   ],
   "source": [
    "dfsalary['EdLevel'].isna().sum()"
   ]
  },
  {
   "cell_type": "markdown",
   "id": "303eb315",
   "metadata": {},
   "source": [
    "Hay 14 registros sin Education level, los vamos a eliminar"
   ]
  },
  {
   "cell_type": "code",
   "execution_count": 24,
   "id": "5433d0c8",
   "metadata": {},
   "outputs": [],
   "source": [
    "# dfsalary = dfsalary.dropna(subset=['Edlevel'], axis=0)\n",
    "dfsalary = dfsalary.dropna(subset=['EdLevel'])"
   ]
  },
  {
   "cell_type": "code",
   "execution_count": 34,
   "id": "a5ca3afe",
   "metadata": {
    "scrolled": true
   },
   "outputs": [
    {
     "data": {
      "image/png": "[encoded data removed]",
      "text/plain": [
       "<Figure size 432x288 with 1 Axes>"
      ]
     },
     "metadata": {
      "needs_background": "light"
     },
     "output_type": "display_data"
    }
   ],
   "source": [
    "(dfsalary['EdLevel'].value_counts()/dfsalary.shape[0]).plot(kind='barh',);"
   ]
  },
  {
   "cell_type": "code",
   "execution_count": 33,
   "id": "712d3e9c",
   "metadata": {
    "scrolled": true
   },
   "outputs": [
    {
     "data": {
      "image/png": "[encoded data removed]",
      "text/plain": [
       "<Figure size 432x288 with 1 Axes>"
      ]
     },
     "metadata": {
      "needs_background": "light"
     },
     "output_type": "display_data"
    }
   ],
   "source": [
    "sns.boxplot(x=dfsalary['Salary'], y = dfsalary['EdLevel'],fliersize = 1);"
   ]
  },
  {
   "cell_type": "code",
   "execution_count": null,
   "id": "956b5a70",
   "metadata": {},
   "outputs": [],
   "source": []
  },
  {
   "cell_type": "code",
   "execution_count": null,
   "id": "6fa7d97c",
   "metadata": {},
   "outputs": [],
   "source": []
  },
  {
   "cell_type": "code",
   "execution_count": null,
   "id": "a7ed7a4f",
   "metadata": {},
   "outputs": [],
   "source": []
  },
  {
   "cell_type": "code",
   "execution_count": null,
   "id": "26c8c417",
   "metadata": {},
   "outputs": [],
   "source": []
  },
  {
   "cell_type": "code",
   "execution_count": null,
   "id": "06594c93",
   "metadata": {},
   "outputs": [],
   "source": []
  },
  {
   "cell_type": "code",
   "execution_count": 36,
   "id": "436ce9ef",
   "metadata": {
    "scrolled": true
   },
   "outputs": [],
   "source": [
    "recortado = list(dfsalary['EdLevel'].unique())\n",
    "# recortado = []\n",
    "for i,estudio in enumerate(dfsalary['EdLevel'].unique()):\n",
    "    recortado[i] = estudio.split()[0] + ' ' + estudio.split()[1]\n",
    "#     print(estudio)\n",
    "recortado\n",
    "def trans(texto):\n",
    "    traduccion = {x:y for x,y in zip(list(dfsalary['EdLevel'].unique()),recortado)}\n",
    "    return traduccion[texto]"
   ]
  },
  {
   "cell_type": "code",
   "execution_count": null,
   "id": "f7903adc",
   "metadata": {},
   "outputs": [],
   "source": [
    "serie etiquetas = "
   ]
  },
  {
   "cell_type": "code",
   "execution_count": 52,
   "id": "54a32ab0",
   "metadata": {},
   "outputs": [
    {
     "data": {
      "text/plain": [
       "array(['Master’s degree (M.A., M.S., M.Eng., MBA, etc.)',\n",
       "       'Bachelor’s degree (B.A., B.S., B.Eng., etc.)',\n",
       "       'Secondary school (e.g. American high school, German Realschule or Gymnasium, etc.)',\n",
       "       'Something else', 'Associate degree (A.A., A.S., etc.)',\n",
       "       'Some college/university study without earning a degree',\n",
       "       'Professional degree (JD, MD, etc.)',\n",
       "       'Other doctoral degree (Ph.D., Ed.D., etc.)',\n",
       "       'Primary/elementary school'], dtype=object)"
      ]
     },
     "execution_count": 52,
     "metadata": {},
     "output_type": "execute_result"
    }
   ],
   "source": [
    "dfsalary['EdLevel'].unique()"
   ]
  },
  {
   "cell_type": "code",
   "execution_count": 37,
   "id": "99599e84",
   "metadata": {},
   "outputs": [],
   "source": [
    "dfsalary['EdLevel'] = dfsalary['EdLevel'].apply(trans)"
   ]
  },
  {
   "cell_type": "code",
   "execution_count": 54,
   "id": "3d25be7d",
   "metadata": {
    "scrolled": true
   },
   "outputs": [
    {
     "data": {
      "text/plain": [
       "<bound method IndexOpsMixin.nunique of 2          Master’s degree\n",
       "8          Master’s degree\n",
       "10       Bachelor’s degree\n",
       "11       Bachelor’s degree\n",
       "12       Bachelor’s degree\n",
       "               ...        \n",
       "73259      Master’s degree\n",
       "73261      Master’s degree\n",
       "73263    Bachelor’s degree\n",
       "73264      Master’s degree\n",
       "73266    Bachelor’s degree\n",
       "Name: EdLevel, Length: 30528, dtype: object>"
      ]
     },
     "execution_count": 54,
     "metadata": {},
     "output_type": "execute_result"
    }
   ],
   "source": [
    "dfsalary['EdLevel'].nunique"
   ]
  },
  {
   "cell_type": "code",
   "execution_count": 71,
   "id": "6b67c2aa",
   "metadata": {
    "scrolled": true
   },
   "outputs": [
    {
     "data": {
      "image/png": "[encoded data removed]",
      "text/plain": [
       "<Figure size 576x360 with 1 Axes>"
      ]
     },
     "metadata": {
      "needs_background": "light"
     },
     "output_type": "display_data"
    }
   ],
   "source": [
    "plt.figure(figsize=(8,5));\n",
    "(dfsalary['EdLevel'].value_counts()/dfsalary.shape[0]).plot(kind='barh');"
   ]
  },
  {
   "cell_type": "code",
   "execution_count": 39,
   "id": "4f205f88",
   "metadata": {
    "scrolled": false
   },
   "outputs": [
    {
     "data": {
      "image/png": "[encoded data removed]",
      "text/plain": [
       "<Figure size 576x360 with 1 Axes>"
      ]
     },
     "metadata": {
      "needs_background": "light"
     },
     "output_type": "display_data"
    }
   ],
   "source": [
    "plt.figure(figsize=(8,5));\n",
    "sns.boxplot(x=dfsalary['Salary'], y = dfsalary['EdLevel'],fliersize = 1);"
   ]
  },
  {
   "cell_type": "code",
   "execution_count": null,
   "id": "475964b1",
   "metadata": {},
   "outputs": [],
   "source": []
  },
  {
   "cell_type": "code",
   "execution_count": null,
   "id": "9021d64b",
   "metadata": {},
   "outputs": [],
   "source": []
  },
  {
   "cell_type": "markdown",
   "id": "7418b3bb",
   "metadata": {},
   "source": [
    "## Remote work\n",
    "We wanted to see how the situation was after the pandemic. And if remote work had become the norm."
   ]
  },
  {
   "cell_type": "code",
   "execution_count": 41,
   "id": "88185118",
   "metadata": {},
   "outputs": [
    {
     "data": {
      "image/png": "[encoded data removed]",
      "text/plain": [
       "<Figure size 432x288 with 1 Axes>"
      ]
     },
     "metadata": {
      "needs_background": "light"
     },
     "output_type": "display_data"
    }
   ],
   "source": [
    "remoto = (df['RemoteWork'].value_counts()/df.shape[0])\n",
    "remoto.index = ['Fully remote', 'Hybrid','Full in-person']\n",
    "remoto.plot(kind= 'barh');"
   ]
  },
  {
   "cell_type": "markdown",
   "id": "196ea4c9",
   "metadata": {},
   "source": [
    "# Estudio de los años de experiecia con código"
   ]
  },
  {
   "cell_type": "markdown",
   "id": "21628a64",
   "metadata": {},
   "source": [
    "Podemos Comparar las columnas YearsCode y YearsCodePro para ver de media cuánto pasaron de estudiar a ser profesionales."
   ]
  },
  {
   "cell_type": "code",
   "execution_count": 42,
   "id": "f17cf836",
   "metadata": {
    "scrolled": true
   },
   "outputs": [
    {
     "data": {
      "image/png": "[encoded data removed]",
      "text/plain": [
       "<Figure size 432x288 with 1 Axes>"
      ]
     },
     "metadata": {
      "needs_background": "light"
     },
     "output_type": "display_data"
    }
   ],
   "source": [
    "programando = df.copy()\n",
    "(programando['YearsCode'].value_counts()/programando.shape[0]).plot();\n",
    "(programando['YearsCodePro'].value_counts()/programando.shape[0]).plot();"
   ]
  },
  {
   "cell_type": "code",
   "execution_count": 43,
   "id": "640fed7b",
   "metadata": {
    "scrolled": true
   },
   "outputs": [],
   "source": [
    "yearscode = programando['YearsCode'].value_counts()/programando.shape[0]\n",
    "yearscodepro = programando['YearsCodePro'].value_counts()/programando.shape[0]"
   ]
  },
  {
   "cell_type": "code",
   "execution_count": 44,
   "id": "caf21cad",
   "metadata": {},
   "outputs": [],
   "source": [
    "yearscode.index = ['10', '5', '6', '4', '7', '8', '3', '2', '12', '15', '20', '9', '11',\n",
    "       '14', '13', '25', '1', '0', '16', '30', '22', '18', '17',\n",
    "       '40', '24', '35', '23', '19', '26', '27', '21', '28', '32', '38', '37',\n",
    "       '34', '36', '33', '42', '29', '50', '31', '45', '39',\n",
    "       '41', '43', '44', '50', '46', '47', '48', '49']"
   ]
  },
  {
   "cell_type": "code",
   "execution_count": 45,
   "id": "1c9a0f9b",
   "metadata": {},
   "outputs": [],
   "source": [
    "yearscodepro.index =['3', '5', '2', '4', '10', '6', '7', '8', '1', '0', '15',\n",
    "       '12', '9', '20', '11', '14', '22', '16', '13', '25', '18', '17', '30',\n",
    "       '23', '24', '21', '19', '26', '27', '35', '28', '32', '40', '29', '33',\n",
    "       '31', '34', '36', '37', '38', '42', '45', '39', '41',\n",
    "       '50', '43', '44', '46', '48', '50', '47', '49']"
   ]
  },
  {
   "cell_type": "markdown",
   "id": "bcfdd73d",
   "metadata": {},
   "source": [
    "### La idea es crear otra columna con la diferencia de años pro y años amateur"
   ]
  },
  {
   "cell_type": "code",
   "execution_count": 46,
   "id": "f1ddd8c3",
   "metadata": {},
   "outputs": [
    {
     "data": {
      "text/html": [
       "<div>\n",
       "<style scoped>\n",
       "    .dataframe tbody tr th:only-of-type {\n",
       "        vertical-align: middle;\n",
       "    }\n",
       "\n",
       "    .dataframe tbody tr th {\n",
       "        vertical-align: top;\n",
       "    }\n",
       "\n",
       "    .dataframe thead th {\n",
       "        text-align: right;\n",
       "    }\n",
       "</style>\n",
       "<table border=\"1\" class=\"dataframe\">\n",
       "  <thead>\n",
       "    <tr style=\"text-align: right;\">\n",
       "      <th></th>\n",
       "      <th>YearsCode</th>\n",
       "      <th>YearsCodePro</th>\n",
       "    </tr>\n",
       "  </thead>\n",
       "  <tbody>\n",
       "    <tr>\n",
       "      <th>0</th>\n",
       "      <td>NaN</td>\n",
       "      <td>NaN</td>\n",
       "    </tr>\n",
       "    <tr>\n",
       "      <th>1</th>\n",
       "      <td>NaN</td>\n",
       "      <td>NaN</td>\n",
       "    </tr>\n",
       "    <tr>\n",
       "      <th>2</th>\n",
       "      <td>14</td>\n",
       "      <td>5</td>\n",
       "    </tr>\n",
       "    <tr>\n",
       "      <th>3</th>\n",
       "      <td>20</td>\n",
       "      <td>17</td>\n",
       "    </tr>\n",
       "    <tr>\n",
       "      <th>4</th>\n",
       "      <td>8</td>\n",
       "      <td>3</td>\n",
       "    </tr>\n",
       "  </tbody>\n",
       "</table>\n",
       "</div>"
      ],
      "text/plain": [
       "  YearsCode YearsCodePro\n",
       "0       NaN          NaN\n",
       "1       NaN          NaN\n",
       "2        14            5\n",
       "3        20           17\n",
       "4         8            3"
      ]
     },
     "execution_count": 46,
     "metadata": {},
     "output_type": "execute_result"
    }
   ],
   "source": [
    "programando[['YearsCode','YearsCodePro']].head()"
   ]
  },
  {
   "cell_type": "markdown",
   "id": "da1e03f9",
   "metadata": {},
   "source": [
    "#### Para esto tendremos que ocuparnos de algunos problemas:\n",
    "- Valores nulos\n",
    "- Valores str que no podemos restar"
   ]
  },
  {
   "cell_type": "markdown",
   "id": "8ce11699",
   "metadata": {},
   "source": [
    "### Eliminamos valores nulos"
   ]
  },
  {
   "cell_type": "code",
   "execution_count": 47,
   "id": "41f90ea2",
   "metadata": {},
   "outputs": [],
   "source": [
    "programando = programando.dropna(subset=['YearsCode','YearsCodePro'])"
   ]
  },
  {
   "cell_type": "markdown",
   "id": "bdc45fdf",
   "metadata": {},
   "source": [
    "### Transformamos valores que no podemos operar\n",
    "- 'Less than 1 year' lo sustituyo por el valor **0.5**\n",
    "- 'More than 50 years' lo sustituyo por el valor **50**"
   ]
  },
  {
   "cell_type": "code",
   "execution_count": 48,
   "id": "67b1a1af",
   "metadata": {},
   "outputs": [],
   "source": [
    "def traducir(valor):\n",
    "    if valor == 'Less than 1 year':\n",
    "        return '0'\n",
    "    elif valor == 'More than 50 years':\n",
    "        return '50'\n",
    "    return valor"
   ]
  },
  {
   "cell_type": "code",
   "execution_count": 49,
   "id": "5343dac6",
   "metadata": {},
   "outputs": [],
   "source": [
    "programando['YearsCode'] = programando['YearsCode'].apply(traducir)\n",
    "programando['YearsCodePro'] = programando['YearsCodePro'].apply(traducir)"
   ]
  },
  {
   "cell_type": "code",
   "execution_count": 50,
   "id": "3035ee03",
   "metadata": {},
   "outputs": [
    {
     "data": {
      "image/png": "[encoded data removed]",
      "text/plain": [
       "<Figure size 432x288 with 1 Axes>"
      ]
     },
     "metadata": {
      "needs_background": "light"
     },
     "output_type": "display_data"
    }
   ],
   "source": [
    "programando['YearsCode'].value_counts().plot();\n",
    "programando['YearsCodePro'].value_counts().plot();"
   ]
  },
  {
   "cell_type": "markdown",
   "id": "81f63517",
   "metadata": {},
   "source": [
    "Vamos a crear una nueva columna resultante de restar las columnas `['YearsCode']` y `['YearsCodePro']`"
   ]
  },
  {
   "cell_type": "markdown",
   "id": "f5b7f708",
   "metadata": {},
   "source": [
    "Antes, comprobemos si hay algún valor donde alguien lleva más años programando como programador, que en total:"
   ]
  },
  {
   "cell_type": "code",
   "execution_count": 51,
   "id": "bfdd38f5",
   "metadata": {},
   "outputs": [
    {
     "data": {
      "text/plain": [
       "11811"
      ]
     },
     "execution_count": 51,
     "metadata": {},
     "output_type": "execute_result"
    }
   ],
   "source": [
    "(programando['YearsCodePro'] > programando['YearsCode']).sum()"
   ]
  },
  {
   "cell_type": "code",
   "execution_count": 52,
   "id": "dfabc04b",
   "metadata": {},
   "outputs": [],
   "source": [
    "programando['Diferencia'] = (programando['YearsCode'].astype('int32')  - programando['YearsCodePro'].astype('int32')).astype('object')"
   ]
  },
  {
   "cell_type": "code",
   "execution_count": 53,
   "id": "5d23c628",
   "metadata": {},
   "outputs": [
    {
     "data": {
      "text/html": [
       "<div>\n",
       "<style scoped>\n",
       "    .dataframe tbody tr th:only-of-type {\n",
       "        vertical-align: middle;\n",
       "    }\n",
       "\n",
       "    .dataframe tbody tr th {\n",
       "        vertical-align: top;\n",
       "    }\n",
       "\n",
       "    .dataframe thead th {\n",
       "        text-align: right;\n",
       "    }\n",
       "</style>\n",
       "<table border=\"1\" class=\"dataframe\">\n",
       "  <thead>\n",
       "    <tr style=\"text-align: right;\">\n",
       "      <th></th>\n",
       "      <th>YearsCode</th>\n",
       "      <th>YearsCodePro</th>\n",
       "      <th>Diferencia</th>\n",
       "    </tr>\n",
       "  </thead>\n",
       "  <tbody>\n",
       "    <tr>\n",
       "      <th>259</th>\n",
       "      <td>9</td>\n",
       "      <td>11</td>\n",
       "      <td>-2</td>\n",
       "    </tr>\n",
       "    <tr>\n",
       "      <th>455</th>\n",
       "      <td>12</td>\n",
       "      <td>20</td>\n",
       "      <td>-8</td>\n",
       "    </tr>\n",
       "    <tr>\n",
       "      <th>911</th>\n",
       "      <td>2</td>\n",
       "      <td>3</td>\n",
       "      <td>-1</td>\n",
       "    </tr>\n",
       "    <tr>\n",
       "      <th>1309</th>\n",
       "      <td>12</td>\n",
       "      <td>22</td>\n",
       "      <td>-10</td>\n",
       "    </tr>\n",
       "    <tr>\n",
       "      <th>1585</th>\n",
       "      <td>4</td>\n",
       "      <td>15</td>\n",
       "      <td>-11</td>\n",
       "    </tr>\n",
       "    <tr>\n",
       "      <th>...</th>\n",
       "      <td>...</td>\n",
       "      <td>...</td>\n",
       "      <td>...</td>\n",
       "    </tr>\n",
       "    <tr>\n",
       "      <th>72662</th>\n",
       "      <td>4</td>\n",
       "      <td>5</td>\n",
       "      <td>-1</td>\n",
       "    </tr>\n",
       "    <tr>\n",
       "      <th>72720</th>\n",
       "      <td>3</td>\n",
       "      <td>4</td>\n",
       "      <td>-1</td>\n",
       "    </tr>\n",
       "    <tr>\n",
       "      <th>72949</th>\n",
       "      <td>2</td>\n",
       "      <td>5</td>\n",
       "      <td>-3</td>\n",
       "    </tr>\n",
       "    <tr>\n",
       "      <th>73078</th>\n",
       "      <td>10</td>\n",
       "      <td>13</td>\n",
       "      <td>-3</td>\n",
       "    </tr>\n",
       "    <tr>\n",
       "      <th>73234</th>\n",
       "      <td>3</td>\n",
       "      <td>4</td>\n",
       "      <td>-1</td>\n",
       "    </tr>\n",
       "  </tbody>\n",
       "</table>\n",
       "<p>544 rows × 3 columns</p>\n",
       "</div>"
      ],
      "text/plain": [
       "      YearsCode YearsCodePro Diferencia\n",
       "259           9           11         -2\n",
       "455          12           20         -8\n",
       "911           2            3         -1\n",
       "1309         12           22        -10\n",
       "1585          4           15        -11\n",
       "...         ...          ...        ...\n",
       "72662         4            5         -1\n",
       "72720         3            4         -1\n",
       "72949         2            5         -3\n",
       "73078        10           13         -3\n",
       "73234         3            4         -1\n",
       "\n",
       "[544 rows x 3 columns]"
      ]
     },
     "execution_count": 53,
     "metadata": {},
     "output_type": "execute_result"
    }
   ],
   "source": [
    "programando[programando['Diferencia'].astype('int32') < 0][['YearsCode','YearsCodePro','Diferencia']]"
   ]
  },
  {
   "cell_type": "markdown",
   "id": "0b372ea4",
   "metadata": {},
   "source": [
    "Dado que esos datos no tienen sentido, vamos a eliminarlos en nuestro gráfico"
   ]
  },
  {
   "cell_type": "code",
   "execution_count": 54,
   "id": "e4be0483",
   "metadata": {},
   "outputs": [],
   "source": [
    "programando = programando[programando['Diferencia'].astype('int32') >= 0]"
   ]
  },
  {
   "cell_type": "code",
   "execution_count": 55,
   "id": "852de77a",
   "metadata": {},
   "outputs": [
    {
     "data": {
      "text/html": [
       "<div>\n",
       "<style scoped>\n",
       "    .dataframe tbody tr th:only-of-type {\n",
       "        vertical-align: middle;\n",
       "    }\n",
       "\n",
       "    .dataframe tbody tr th {\n",
       "        vertical-align: top;\n",
       "    }\n",
       "\n",
       "    .dataframe thead th {\n",
       "        text-align: right;\n",
       "    }\n",
       "</style>\n",
       "<table border=\"1\" class=\"dataframe\">\n",
       "  <thead>\n",
       "    <tr style=\"text-align: right;\">\n",
       "      <th></th>\n",
       "      <th>YearsCode</th>\n",
       "      <th>YearsCodePro</th>\n",
       "      <th>Diferencia</th>\n",
       "    </tr>\n",
       "  </thead>\n",
       "  <tbody>\n",
       "    <tr>\n",
       "      <th>2</th>\n",
       "      <td>14</td>\n",
       "      <td>5</td>\n",
       "      <td>9</td>\n",
       "    </tr>\n",
       "    <tr>\n",
       "      <th>3</th>\n",
       "      <td>20</td>\n",
       "      <td>17</td>\n",
       "      <td>3</td>\n",
       "    </tr>\n",
       "    <tr>\n",
       "      <th>4</th>\n",
       "      <td>8</td>\n",
       "      <td>3</td>\n",
       "      <td>5</td>\n",
       "    </tr>\n",
       "    <tr>\n",
       "      <th>8</th>\n",
       "      <td>6</td>\n",
       "      <td>6</td>\n",
       "      <td>0</td>\n",
       "    </tr>\n",
       "    <tr>\n",
       "      <th>9</th>\n",
       "      <td>37</td>\n",
       "      <td>30</td>\n",
       "      <td>7</td>\n",
       "    </tr>\n",
       "    <tr>\n",
       "      <th>...</th>\n",
       "      <td>...</td>\n",
       "      <td>...</td>\n",
       "      <td>...</td>\n",
       "    </tr>\n",
       "    <tr>\n",
       "      <th>73263</th>\n",
       "      <td>8</td>\n",
       "      <td>5</td>\n",
       "      <td>3</td>\n",
       "    </tr>\n",
       "    <tr>\n",
       "      <th>73264</th>\n",
       "      <td>6</td>\n",
       "      <td>5</td>\n",
       "      <td>1</td>\n",
       "    </tr>\n",
       "    <tr>\n",
       "      <th>73265</th>\n",
       "      <td>42</td>\n",
       "      <td>33</td>\n",
       "      <td>9</td>\n",
       "    </tr>\n",
       "    <tr>\n",
       "      <th>73266</th>\n",
       "      <td>50</td>\n",
       "      <td>31</td>\n",
       "      <td>19</td>\n",
       "    </tr>\n",
       "    <tr>\n",
       "      <th>73267</th>\n",
       "      <td>16</td>\n",
       "      <td>5</td>\n",
       "      <td>11</td>\n",
       "    </tr>\n",
       "  </tbody>\n",
       "</table>\n",
       "<p>51208 rows × 3 columns</p>\n",
       "</div>"
      ],
      "text/plain": [
       "      YearsCode YearsCodePro Diferencia\n",
       "2            14            5          9\n",
       "3            20           17          3\n",
       "4             8            3          5\n",
       "8             6            6          0\n",
       "9            37           30          7\n",
       "...         ...          ...        ...\n",
       "73263         8            5          3\n",
       "73264         6            5          1\n",
       "73265        42           33          9\n",
       "73266        50           31         19\n",
       "73267        16            5         11\n",
       "\n",
       "[51208 rows x 3 columns]"
      ]
     },
     "execution_count": 55,
     "metadata": {},
     "output_type": "execute_result"
    }
   ],
   "source": [
    "programando[['YearsCode','YearsCodePro','Diferencia']]"
   ]
  },
  {
   "cell_type": "code",
   "execution_count": 56,
   "id": "22533f7e",
   "metadata": {},
   "outputs": [
    {
     "data": {
      "image/png": "[encoded data removed]",
      "text/plain": [
       "<Figure size 576x432 with 1 Axes>"
      ]
     },
     "metadata": {
      "needs_background": "light"
     },
     "output_type": "display_data"
    }
   ],
   "source": [
    "plt.figure(figsize=(8,6));\n",
    "(programando['YearsCode'].value_counts()/programando.shape[0]).plot();\n",
    "(programando['YearsCodePro'].value_counts()/programando.shape[0]).plot();\n"
   ]
  },
  {
   "cell_type": "code",
   "execution_count": 103,
   "id": "9b64ba27",
   "metadata": {},
   "outputs": [
    {
     "data": {
      "image/png": "[encoded data removed]",
      "text/plain": [
       "<Figure size 576x432 with 1 Axes>"
      ]
     },
     "metadata": {
      "needs_background": "light"
     },
     "output_type": "display_data"
    }
   ],
   "source": [
    "plt.figure(figsize=(8,6));\n",
    "plt.xlim((0,24));\n",
    "(programando['Diferencia'].value_counts().sort_index()/programando.shape[0]).plot();"
   ]
  },
  {
   "cell_type": "code",
   "execution_count": null,
   "id": "a54e36e6",
   "metadata": {},
   "outputs": [],
   "source": []
  },
  {
   "cell_type": "code",
   "execution_count": null,
   "id": "3ad1be85",
   "metadata": {},
   "outputs": [],
   "source": []
  }
 ],
 "metadata": {
  "kernelspec": {
   "display_name": "Python 3 (ipykernel)",
   "language": "python",
   "name": "python3"
  },
  "language_info": {
   "codemirror_mode": {
    "name": "ipython",
    "version": 3
   },
   "file_extension": ".py",
   "mimetype": "text/x-python",
   "name": "python",
   "nbconvert_exporter": "python",
   "pygments_lexer": "ipython3",
   "version": "3.9.12"
  }
 },
 "nbformat": 4,
 "nbformat_minor": 5
}
